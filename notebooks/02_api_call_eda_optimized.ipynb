{
 "cells": [
  {
   "cell_type": "markdown",
   "id": "75caced2-94af-476e-8276-7f9ec10360fc",
   "metadata": {},
   "source": [
    "# 02 - API CALL AND EDA FOR ENTIRE SEASON\n",
    "- A cleaner, more efficient, and reproducible version of the API call and DF aggregation notebook\n",
    "- Meant to be applied to all seasons"
   ]
  },
  {
   "cell_type": "markdown",
   "id": "e0efe482-9ed4-407f-8c6b-cae95b157d49",
   "metadata": {},
   "source": [
    "# FETCH DATA"
   ]
  },
  {
   "cell_type": "code",
   "execution_count": 2,
   "id": "ec5ed5e3-c381-47b5-88f2-6e4f02b24a94",
   "metadata": {},
   "outputs": [
    {
     "data": {
      "text/html": [
       "<style>:root { --jp-notebook-max-width: 98% !important; }</style>"
      ],
      "text/plain": [
       "<IPython.core.display.HTML object>"
      ]
     },
     "metadata": {},
     "output_type": "display_data"
    }
   ],
   "source": [
    "import numpy as np\n",
    "import pandas as pd\n",
    "import warnings\n",
    "import json\n",
    "import http.client\n",
    "import time\n",
    "import ast\n",
    "\n",
    "# Column and row display\n",
    "pd.set_option('display.max_columns', None)\n",
    "pd.set_option('display.max_rows', None)\n",
    "pd.set_option('display.max_seq_items', None)\n",
    "pd.reset_option('display.max_colwidth', None)\n",
    "\n",
    "\n",
    "# Notebook cell width display\n",
    "from IPython.display import display, HTML\n",
    "display(HTML(\"<style>:root { --jp-notebook-max-width: 98% !important; }</style>\"))\n",
    "\n",
    "# Float appearance, Pandas and NumPy\n",
    "pd.set_option('display.float_format', '{:.0f}'.format)\n",
    "np.set_printoptions(suppress=True, precision=0)\n",
    "\n",
    "# Supress warnings\n",
    "warnings.filterwarnings('ignore')"
   ]
  },
  {
   "cell_type": "code",
   "execution_count": 3,
   "id": "c0324966-39db-4b52-9c62-90a60e9b9344",
   "metadata": {},
   "outputs": [],
   "source": [
    "import sys\n",
    "sys.path.append('../')\n",
    "import functions as fn"
   ]
  },
  {
   "cell_type": "code",
   "execution_count": 7,
   "id": "869e4db1-d6fd-4f78-9dbe-e63b9db2cb71",
   "metadata": {},
   "outputs": [],
   "source": [
    "game_ids = ['bf60c8fc-35cd-4749-a29e-4f48d66da57c', '138ba6ee-966d-40b6-8017-5b018c4a31d1', '3a30461a-f6cc-493d-bff3-5c4a447ff812', '5e90e42b-7203-4ae8-a506-43e5dc3140e9', '7af18bf0-4be8-4532-bd9c-845b88e9f684', 'b206fcec-b10d-4bc2-a7fe-3c69c532f8fc', 'b7bbcbe9-fa76-4175-8ced-b87b3076aca8',\n",
    "'c4a110f2-847b-4710-9a54-7be66fdb3c99', 'ce4b9426-af23-4681-8bf7-800c7e020d4e', 'df15f570-b51c-4ece-a42b-aaa1e130290a', '39c07cba-900b-49dc-ade1-e34c815c202e', '5d7038d9-82cc-4464-a20a-04952454f928', '71ce533f-3932-4927-85af-2f0d01f5686d', 'ab13a972-6ea4-4059-ab5c-51ead63d9abd',\n",
    "'c60eb416-db18-42aa-b936-f25fe21e65e0', 'd981ce4e-3139-44d4-b6a5-f16fd3e8ca6e', 'de17900b-51bc-4280-8f09-d143bf6cdeb1', '3db2a367-2c28-4c98-9edc-87c3a711952b', '4fe9b8f1-09a9-49a0-a4c7-812aac3d8c21', '7ffcc5a2-e9a5-413d-b692-e46818eb840a', '8024a131-2d3d-4ee1-bc56-816a55f248e0',\n",
    "'90622f34-5635-42ed-bc72-ba3b5aeb98a1', 'b1429091-b0af-406e-9f09-5968c049e0ae', 'd5119ada-211c-4cf5-bc2a-aeb3589e3fd5', '3f1d5b42-2e10-4cb1-8db9-41a6bb2ab21f', 'f3d27d24-7b63-4314-aec7-c65405c82724', 'd144122e-0963-42f5-85c5-651cb8c1b123', 'e27da541-573a-4c86-bf53-a25a6d85c73b',\n",
    "'e6e9bd0b-6803-492a-ba93-5d6dfb38c199', 'a1cfb866-3432-46f6-a354-385db0a6e7fb', 'feac652a-72a3-4c1e-a43f-7e2a1035c1dc', '4dc9220a-bc27-4e0a-838e-4860f4bc4da8', 'cf7291ef-cb13-4d5d-882e-0221330aafeb', '2eb9ef80-c7fc-47f0-ba9e-359ffd5208c2', '5a49b508-acbe-4b5d-912d-a50b4f8c6366',\n",
    "'8b8f8d1e-68b3-4b87-8f3b-d427bf790911', '8badc9e6-483a-498d-8f92-a8f5b02de67f', '9cd300f9-b564-4beb-bc7f-687543a70c7f', 'b3f234aa-0768-488b-930c-4171378cdb97', 'b9a40f08-db99-4cb0-856a-2434f41df26f', 'beb9fe5d-a6aa-425f-8dab-ef5f11e59d11', 'f33e2f4e-0647-4962-97c9-bfac791ff951',\n",
    "'8ebfa3c4-dc9c-4bf6-a51b-91d4c5b43a1f', '381afd4d-bfe3-4c01-be10-ea85e2e57c18', '8dbee8ee-a3a4-45f3-9425-239669ca778e', 'db55a870-a775-46d3-b338-c73b29596991', '02c1b1e9-e2dd-475f-84cf-6b1c9a2cbc51', 'd4910570-5897-4653-9dfe-552e8121624e', '1530637b-1218-4c7a-8cfe-5a9655a450ef',\n",
    "'33a593a0-9bc5-49ca-837d-475bc7c90cec', '04d1dfe9-f1d1-430c-b3d2-a440d8d6a59b', '1fd76dfe-636c-46d5-92ca-630da9b25556', '2014bd73-669f-46ca-a507-6f64a47228cc', '43339bf6-5c08-4551-886b-25b5578be23b', '5425a946-fbf7-4735-be0a-dea6b9500bdf', '57727ff1-a524-4323-8e8b-1d7d6f3dc633',\n",
    "'67c5b2b3-02fe-49ce-9e63-c1f606ed2c06', 'c051a5cd-d887-49f8-8f5a-b0bebd794f88', 'f88ed995-0a58-42c7-8b57-89c5c4640e4f', '6fb3effa-3ec0-42fd-bedf-64e969cdfca8', '347e3fc0-bd45-458d-a5ff-b978e360b63b', '9d2b7cff-f479-48b4-abd6-df2f0e23a5f4', '75225665-e0f5-4449-ad9c-e8cefb3d1b07',\n",
    "'b295c097-316e-493f-b8a6-ed82346e8dff', 'f19f51de-5185-460f-bdc5-ec5887276fa4', '37d85a48-62c1-4c27-a05b-759fabd1b0c1', '0c925851-577d-4e7c-9722-cf6b58e41f1e', '13025660-aa95-4885-b33e-3a3554d4c4c3', '50250a4a-e3be-4ba5-a53b-a8894b2d6d5e', '5ccb1b6a-1dd1-4ae0-aa3a-f530546488c6',\n",
    "'859ef7f3-39fd-45d5-8769-d7255837d2ce', 'b6c9bee6-1ec7-4282-96cb-ad1b59439f80', 'cb54b23b-4192-4eda-8431-794d21dd58ab', 'cde58dfc-e789-4ff2-bda4-a8ece588e1d7', 'eb541067-920e-4052-945f-4fb4142341a6', 'e86d674e-a47c-4038-adac-5a6b659dd2c8', '8ee9c37b-4fd8-4954-9d78-f84d1efd700f',\n",
    "'bf8318c0-e876-4a47-9cb4-d3b85725d8f6', '449e9f9f-d2be-40df-ac2c-7e0caf6b1269', 'befce21a-d8dd-416d-bad2-e104279f8823', 'b18e5b30-2ced-4697-b86c-398965fb44ad', '0005ea17-2fc9-4b63-9a52-8bc893b4b481', '28026bf8-209d-470c-98c3-dce2a16141b5', '5d16b9f5-4e23-43f2-8803-4929046b3128',\n",
    "'72f82240-0035-4f1f-8854-68f5b7498c79', '81e7ef41-0a62-496f-b224-6aa1957df6aa', 'a62ebedf-c6fd-47e6-b511-ce5e998ac898', 'ac2edcfb-f5e4-4fbd-ae49-fe424174db0c', 'f4fb34ba-f863-48af-95f1-c317562087ed', '6a5922a9-23e8-4c38-b3c4-604d0f97b1b6', 'fc458b69-5e18-4564-af26-8bc3b58756b8',\n",
    "'e53d49fb-8a14-4fb7-b6aa-9fa9466a7b4d', '78419085-6fc4-4b44-b6c7-f3dd1db63a9c', '1a57777c-7c57-43fa-bf08-66bffc204fd1', '780f2605-5066-4cb2-98cd-75d5634ad77a', '4ec0c067-e9a7-4fb0-ab34-8ae97db6a646', '50c5b405-8f86-427f-a338-a8f2f4c5a629', '77fe4f5c-7dea-4d79-ae8f-6fdc1a34b205',\n",
    "'897b13fd-bf0a-4744-b2a5-424a09a6b37c', 'a7501f59-9d2e-4f94-96c6-8b4d9ab97408', 'bafd2523-3b0a-49c7-92a6-4c83b2a85dc1', 'e4f775bf-9908-45dd-bd65-871cc37ca375', '3baa86f1-4618-4e06-939a-4e741a7ab8ec', 'ad106c3a-0f28-4de4-8594-324d22b25bae', '553ad2a4-48be-4ff7-92ce-8e5dc7a7329b',\n",
    "'69102143-6d12-450e-aaa5-8ca26c4e5c9f', '056b4eb7-64ce-4858-bae7-f3701d8eb753', '20ef56e1-8c82-4f96-84b0-3ce79f1a1a31', '430e5d4d-d4e8-4c54-a93f-ddb1a97cd7d9', 'de5a763a-8dd3-4d4e-84e6-41b9d5917c29', '02211cd0-5ad9-4b1d-818c-20817f18484f', '236c72f3-e4a8-4f4b-a469-8a057a1d32db',\n",
    "'32c7d6d0-5a74-4f14-af43-1337acc4d8e4', '67f337fc-6465-4dd9-8bdd-2a154b70534b', 'c88b342c-fe51-48d2-992e-a4e21a7de71a', 'd5e3b9a0-9f28-439e-bd89-2b87eee439b6', 'ed19500a-c5bf-4f38-89e1-291cb7e20ec9', '40a19cc9-bc8c-4ac4-b588-28d8ee87d29a', '35aedbae-936a-47ab-8113-17c69082a9eb',\n",
    "'37e27f71-bc52-436d-88d1-d55efe0771fd', 'c1f26d78-9b4c-421c-9787-093471339913', '58f33c2e-85e9-4210-af03-17a576e2ab9b', 'f5f0db8e-7900-4d38-8d94-245a43054141', '9e4f6e8a-2f76-4432-a741-6f26ad6b53ab', '4c107e07-511a-4ec2-9172-af0e381690a0', '74a9daed-6d9a-4a34-b7fd-0537fe991647',\n",
    "'83cd16ed-aca2-4d13-bff8-bb16225bedb1', 'a4da928d-acf8-48d8-a35b-e0cd247aaabc', 'c9f431dd-637f-48ca-b01b-76510249d4a4', 'cdf0116f-cd16-456e-9b7c-33975736b93e', 'f4acdc1b-4dbe-42d0-a6c3-617558c40684', 'f6dd0415-2dbd-4e98-9b1b-bca1b8074a05', 'fe7fa4d7-f4d6-4e24-85bd-de084acbe3a9',\n",
    "'77a33d6b-1e3f-416f-8890-fe38f535bee9', 'e1e21176-49f5-4145-be0f-f428b5c11926', 'dbd63c38-1d79-4b19-9db4-b167cadc70d0', 'f7db0b50-cd05-436a-8214-a52969d21462', '44cdfc9a-758f-43b5-8925-8ca783edf65e', '1653b8ff-7a81-4a38-b992-93c4bfd1b3d9', '3e54518d-23f3-4a70-a78a-bf5911bffbe5',\n",
    "'9384d4ea-e36d-4055-ac1d-6936d963030f', '97f8be0f-64b0-4658-b2f4-c7302a49bdb0', 'ce6ea983-ad12-4d89-be0a-a0c87d37717b', 'd3500c07-dfce-4893-834d-d54be6ff0767', 'f1aae2b9-8ecd-431a-ab18-20e1ed251b27', '2c2ded8a-a51a-4a92-b238-6d97092c2d7a', '9e63e019-88a3-49ca-9c78-e50488651085',\n",
    "'e496f932-62b9-4a68-bdb5-a05456e0dd83', 'acb5d131-4758-4593-86cf-13b761f29040', 'e20c1ab3-e723-4156-a9de-a14b7ffbe317', 'b7796b52-a95f-456c-9f8a-e5b9826770eb', '5b67e186-7af6-4380-99b7-d4f6aa289ded', '61787d91-5ad7-438d-9b44-bfb4acecaefa', '72fc63d4-6c4d-4ea2-8559-ca5e15f6a129',\n",
    "'89f6dd2d-aa44-4ad1-adff-643bf9d69c55', '9330ff2e-d460-445e-a708-c999830425ae', 'c7659740-7f30-4a07-a8a3-2dcfddec8be2', 'd01d35c3-ad0b-4687-9e0d-23edb7475ac3', 'e452c2fa-1975-4236-b0c0-bb09c6793a79', '80854172-e672-4cf5-817d-75f326ef93c1', '833598fd-1eb5-4f57-a041-5505da5d943d',\n",
    "'ab83b7bf-6353-4b3f-b687-393f25f03959', 'b587f407-d807-4367-af81-ca0d03741b7c', '5988c183-f838-4ff1-80a0-8563d48b51a4', 'd762d5d8-927b-49c8-9701-3dae3caa210e', '0570e6ae-b774-45d7-92ff-254de62e70ba', '20e9e73e-9e8c-40cd-9b5c-471fcd224441', '0e8c04c3-b9b9-4a17-ae21-b4572407ba50',\n",
    "'37c0ea8c-bd70-428c-a8b6-fa9a58eca788', '3eb4c32d-482d-44ab-92a3-88bdf1d50850', '6e4ce9b2-f7ea-400a-89b1-17fcc078048e', '76aba25a-91f2-4d85-8c74-e7a211def3fa', 'b37b5ed5-d66d-41ae-b680-6ae2e6103486', 'bf00aa76-84ce-4553-ba58-f2303f003af4', '379bbe84-0685-4965-af48-73920a50f4bb',\n",
    "'759d9794-2ea4-4c71-aa91-3ea9efbc9284', '17494e1a-01ce-4b63-8835-24824bf5dd48', 'afb0e513-ab69-4ca1-b1ae-a8ab3fc490a5', 'd954b72e-c480-4776-b64b-75a0a781a50e', 'ec9e43b0-c1d0-4ff8-aab6-9195721e39d3', 'b9a405a3-d53d-483d-8f38-9f10263a0492', '29723007-8261-470a-a7c7-5713075ab27f',\n",
    "'49fe6388-f9bf-4974-be9b-5a18fbcc0d57', '4a17d98f-a876-4214-b7d1-ab987578c562', '72687ef0-fd87-4e79-a590-82332bff157f', '7673d7a8-151c-493a-9975-25a9d1573f3a', 'bd0eed55-b5b7-4e35-a20f-9cbff8c323eb', 'ceba190d-a811-4b74-a3a3-4bfd4daa3a6a', 'de11a0bc-5f2a-4c6c-b2ac-ead3971c4345',\n",
    "'17d283c8-bc55-4f8c-891b-3827137a1166', 'dbfb3d69-d093-4456-89dc-64e487d2f57a', '61a7ad62-a168-4279-8077-93ffc53e2656', '7fb75b32-9705-43ca-b7f8-68edf0a093e7', 'd844b5a7-6fb5-42c3-9ded-db10817c477f', '0f58f1bf-21aa-48e4-aaa0-351234764612', 'c6573861-4766-48ed-aae3-53c0aca6e9ea',\n",
    "'178083b4-c7e3-4754-9d53-a7cf5689932e', '3e067ff5-2a99-4171-a33d-27ab8aec59ae', '439090e4-7429-464e-bd9e-d2fc20f6ba6d', '6e51ac72-a8cd-40d6-b638-6f12536ed243', '9cc461c7-4cc9-4eb5-86db-1a9f6bb9f9aa', '9d2e248e-a120-4ddb-9bbe-4428c2663ebe', 'c6e031ee-56f7-43bb-bd8f-fc92b1cc0b62',\n",
    "'5fb5d3b5-fac3-496e-b686-d6c8d33dfb7d', '6157d7ea-159a-42e1-83d5-17f3e2c95928', '7a1bf5cb-3a14-49bf-b7e8-8aee0ae5e20d', '906eeb30-3279-4467-93be-55ec1f32fa36', '440180d8-8dc2-4481-b4a1-dc5dfae8f764', 'b32abb73-8268-4f40-aeba-3acf3448bbf1', '9b309a87-6279-450f-852c-fae053566b4c',\n",
    "'3d3fafda-7d7c-4ecd-b39a-bebd15511465', '931c22e0-7c1b-405b-a1b5-42b5c718c457', '3ca6a8c4-9865-4fcf-a95d-e8c98904272d', '5fcb929c-7e70-48a8-a5a6-78498eea2f6b', '9256a55f-7380-4adf-b546-8cc730553d7b', 'b5d4cc73-6cf6-4257-a3c2-a0fc122f9075', 'de98e9c5-c5e8-4a25-b8d5-ed2051c452f1',\n",
    "'ea517d29-5b31-49b5-8dcb-ab65db0d2b7b', '7d1ec13f-44e5-4525-9a18-586d0f4f5396', 'ea189422-afff-4730-98d1-e791dd3122b9', '52414295-a998-4b66-80a5-2fdd5c66b264', '96df77c4-50bd-4a7a-a74a-0cca534cd12e', '7c39576e-a060-40d8-8a32-e1a86b5ee7c0', '09d5ac59-8fe4-4239-8bcf-3d77284fa471',\n",
    "'bbb1588e-dd86-4621-b618-011d0278135e', '17b3df26-4163-4234-83be-700cb0ab5f93', '58ea9307-f76e-45e4-9f31-432e320331c2', '9d0e87dd-5bc0-47a4-9c0a-7a426b5605e5', 'a3a9a355-7d17-45a4-a7b1-d0ac460e4877', 'beaee843-99ce-47c1-b32f-9a4055951698', 'ca33baaa-05ac-4bc9-b1da-4330689ce690',\n",
    "'e28ece47-84ed-4f83-a5f5-6bfd6cf58396', 'f98ba7c3-d9cf-470d-a1b9-8557e148ece4', '2b86a156-8ba0-4c37-969e-fa14372dd263', '95fb687b-d407-4eb1-907f-af18e41eda0a', '1348ec41-0920-450b-b809-440581016fac', 'b9ceeb26-c2c5-45ac-8a5f-f01639818e4c', '409f6cec-7369-48fc-b707-9a85621fe059',\n",
    "'87097385-eb47-4932-89a0-656c35c0d285', '9f0a94c7-439a-44f3-979a-ca66855ce34a', 'ef0c58f6-54f6-4889-b880-8a503494d138', '1be368b9-7379-4d76-b954-9d3e7eefc1c1', '2f1ee220-e31b-4427-8686-b65f7f151776', '812e3626-aea7-4907-b726-3b2dc719667c', '86b4dcc4-cc87-43b7-98e1-ea82b24dd400',\n",
    "'ae1134d1-7e07-4197-8e9b-9fff27ff6519', 'bb9a5164-71d2-4efb-9d3e-13c5a4b7df04', 'beedd537-287a-4699-82b6-58387becf9ad', 'cbf9656b-66ec-4568-b697-93f0f723949b', 'ce9870af-6d45-403a-bf73-2cf6d3382c52', '397e9db0-eb0d-44ec-a579-848b32b116f2', 'efa47ae7-e65b-4ae2-bc09-4400d8ec093e',\n",
    "'7d5ce394-4034-4ce3-b500-baff56fe0546', '836f3e95-a59b-4ec2-8461-932548ca3acd', 'f96a8e3f-f7d4-4b8d-8a5d-9c5c0bf1d0e0', '2d05d64f-24c6-4d1a-a682-e909f7fcccf9', '521ea2e6-3f9b-4e15-b94c-cb76fa6ca785', '189c02f5-7832-41a3-b6ec-dfa9d244e095', '5301e285-9d4b-4991-8f64-059bfd6bad13',\n",
    "'7913a1bc-a010-474c-922a-22b0d552fb9c', '9163d9a1-945f-4b0f-9746-20eaf6a73de3', '9cfe315e-1497-41cf-b39c-deff6371f471', 'b3e960cd-6f6f-4da2-897c-ec30a9285e65', 'd714479c-d97d-4aad-9c71-0833ed049647', 'e6b71fe7-ecb3-4931-ad91-907dee42c561', '0b690459-804a-4f62-9625-077b0c3e21da',\n",
    "'9038a474-aafe-4c67-94b2-72c9e387b206', 'acb4aaf3-8850-4b35-abc6-d0f8f6824905', 'b4adc1bb-a794-42ee-bd33-09646ea596e7', 'fdc4acd7-da9d-4dd0-b1ab-206432a5f781', '3ca61a46-2cef-4962-a481-f7ae6d7751eb']\n",
    "\n",
    "# '7c0c0abf-f566-4a1f-a482-b74a991e1663' - Canceled due to Damar Hamlin's cardiac arrest"
   ]
  },
  {
   "cell_type": "code",
   "execution_count": 512,
   "id": "06ec62f2-54bf-41f5-a3a7-83def28f38e2",
   "metadata": {
    "scrolled": true
   },
   "outputs": [
    {
     "name": "stdout",
     "output_type": "stream",
     "text": [
      "CPU times: user 45.4 ms, sys: 1.41 ms, total: 46.8 ms\n",
      "Wall time: 5.38 s\n"
     ]
    }
   ],
   "source": [
    "%%time\n",
    "# game_ids = ['bf60c8fc-35cd-4749-a29e-4f48d66da57c', '138ba6ee-966d-40b6-8017-5b018c4a31d1']\n",
    "api_key = 'insert_your_api_key_here'\n",
    "season_all_games = fn.fetch_data(game_ids, api_key)"
   ]
  },
  {
   "cell_type": "code",
   "execution_count": 514,
   "id": "f19aa920-7cbe-4054-891f-19762991341f",
   "metadata": {},
   "outputs": [
    {
     "data": {
      "text/plain": [
       "list"
      ]
     },
     "execution_count": 514,
     "metadata": {},
     "output_type": "execute_result"
    }
   ],
   "source": [
    "type(season_all_games)"
   ]
  },
  {
   "cell_type": "markdown",
   "id": "f7dc9929-39c7-4e51-a8cc-d63a5923be3b",
   "metadata": {},
   "source": [
    "JSON normalize to convert to dataframe"
   ]
  },
  {
   "cell_type": "code",
   "execution_count": 515,
   "id": "b3a8f581-fb43-4830-9150-a445c2a46194",
   "metadata": {},
   "outputs": [
    {
     "data": {
      "text/plain": [
       "pandas.core.frame.DataFrame"
      ]
     },
     "execution_count": 515,
     "metadata": {},
     "output_type": "execute_result"
    }
   ],
   "source": [
    "season_all_games = pd.json_normalize(season_all_games, errors = 'ignore')\n",
    "type(season_all_games)"
   ]
  },
  {
   "cell_type": "markdown",
   "id": "86b114ed-b9be-4b15-a6ae-1235e84738c1",
   "metadata": {},
   "source": [
    "Save to CSV"
   ]
  },
  {
   "cell_type": "code",
   "execution_count": 518,
   "id": "65323df5-5839-4fec-9e29-e5171654f53b",
   "metadata": {},
   "outputs": [],
   "source": [
    "season_all_games.to_csv('../working_exports/season_all_games.csv')"
   ]
  },
  {
   "cell_type": "markdown",
   "id": "458c95f3-4112-47cc-8a0c-71a88236f9bc",
   "metadata": {},
   "source": [
    "# DATA UNNESTING AND DF CREATION"
   ]
  },
  {
   "cell_type": "code",
   "execution_count": 4,
   "id": "f7483969-ebaf-4d09-bca7-af92478e1f68",
   "metadata": {},
   "outputs": [],
   "source": [
    "season_all_games = pd.read_csv('../working_exports/season_all_games.csv')"
   ]
  },
  {
   "cell_type": "code",
   "execution_count": 5,
   "id": "13eb0d6e-03a5-47d2-832a-ba52608de620",
   "metadata": {},
   "outputs": [
    {
     "data": {
      "text/plain": [
       "(271, 66)"
      ]
     },
     "execution_count": 5,
     "metadata": {},
     "output_type": "execute_result"
    }
   ],
   "source": [
    "season_all_games.shape"
   ]
  },
  {
   "cell_type": "markdown",
   "id": "e8e1c73b-c13e-43f1-889c-53eb9f9ae301",
   "metadata": {},
   "source": [
    "The shape comports with our expectation. 271 rows, each representing a regular season game in the 2022 season.\n",
    "- 32 teams x 17 games played by each team / 2 teams playing per game = 272\n",
    "  - Minus 1 game that was canceled due to Damar Hamlin's cardiac arrest = 271"
   ]
  },
  {
   "cell_type": "markdown",
   "id": "f5cc4ebf-50f7-4afc-9f8b-0997e09c7e10",
   "metadata": {},
   "source": [
    "- Reading in the CSV to a dataframe will not resolve the `periods` column formatting issue\n",
    "- You still have to use `.apply(ast.literal_eval)` to format it properly as a dataframe column"
   ]
  },
  {
   "cell_type": "markdown",
   "id": "8bc05308-7043-4261-8831-9d1f4f5286e0",
   "metadata": {},
   "source": [
    "## Games data"
   ]
  },
  {
   "cell_type": "code",
   "execution_count": 6,
   "id": "3759c745-a94e-4db9-a1c9-6402b0230d13",
   "metadata": {},
   "outputs": [
    {
     "name": "stdout",
     "output_type": "stream",
     "text": [
      "CPU times: user 1min 5s, sys: 4.68 s, total: 1min 10s\n",
      "Wall time: 1min 10s\n"
     ]
    }
   ],
   "source": [
    "%%time\n",
    "games = season_all_games\n",
    "games['periods'] = games['periods'].apply(ast.literal_eval)\n",
    "games_periods_exploded = games.explode('periods')"
   ]
  },
  {
   "cell_type": "code",
   "execution_count": 7,
   "id": "6999375b-4aef-427e-a211-6224f2ce8d80",
   "metadata": {},
   "outputs": [
    {
     "data": {
      "text/plain": [
       "Index(['Unnamed: 0.1', 'Unnamed: 0', 'id', 'status', 'scheduled', 'attendance',\n",
       "       'entry_mode', 'clock', 'quarter', 'sr_id', 'game_type',\n",
       "       'conference_game', 'duration', 'periods', '_comment',\n",
       "       'weather.condition', 'weather.humidity', 'weather.temp',\n",
       "       'weather.wind.speed', 'weather.wind.direction', 'summary.season.id',\n",
       "       'summary.season.year', 'summary.season.type', 'summary.season.name',\n",
       "       'summary.week.id', 'summary.week.sequence', 'summary.week.title',\n",
       "       'summary.venue.id', 'summary.venue.name', 'summary.venue.city',\n",
       "       'summary.venue.state', 'summary.venue.country', 'summary.venue.zip',\n",
       "       'summary.venue.address', 'summary.venue.capacity',\n",
       "       'summary.venue.surface', 'summary.venue.roof_type',\n",
       "       'summary.venue.sr_id', 'summary.venue.location.lat',\n",
       "       'summary.venue.location.lng', 'summary.home.id', 'summary.home.name',\n",
       "       'summary.home.market', 'summary.home.alias', 'summary.home.sr_id',\n",
       "       'summary.home.used_timeouts', 'summary.home.remaining_timeouts',\n",
       "       'summary.home.points', 'summary.home.used_challenges',\n",
       "       'summary.home.remaining_challenges', 'summary.home.record.wins',\n",
       "       'summary.home.record.losses', 'summary.home.record.ties',\n",
       "       'summary.away.id', 'summary.away.name', 'summary.away.market',\n",
       "       'summary.away.alias', 'summary.away.sr_id',\n",
       "       'summary.away.used_timeouts', 'summary.away.remaining_timeouts',\n",
       "       'summary.away.points', 'summary.away.used_challenges',\n",
       "       'summary.away.remaining_challenges', 'summary.away.record.wins',\n",
       "       'summary.away.record.losses', 'summary.away.record.ties'],\n",
       "      dtype='object')"
      ]
     },
     "execution_count": 7,
     "metadata": {},
     "output_type": "execute_result"
    }
   ],
   "source": [
    "games_periods_exploded.columns"
   ]
  },
  {
   "cell_type": "code",
   "execution_count": 8,
   "id": "6c753f16-85d9-4995-9b46-2b18a6b186b1",
   "metadata": {},
   "outputs": [],
   "source": [
    "drop_cols = ['status', 'scheduled', 'attendance', 'entry_mode', 'clock', 'quarter', 'conference_game', 'duration', '_comment', 'weather.wind.direction', 'summary.season.id', \n",
    "       'summary.season.name', 'summary.week.id', 'summary.week.title', 'summary.venue.id', 'summary.venue.name', 'summary.venue.city', 'summary.venue.state', 'summary.venue.country',\n",
    "       'summary.venue.zip', 'summary.venue.address', 'summary.venue.capacity', 'summary.venue.sr_id', 'summary.venue.location.lat', 'summary.venue.location.lng', 'summary.home.id', 'summary.home.name',\n",
    "       'summary.home.market', 'summary.home.sr_id', 'summary.home.used_timeouts', 'summary.home.remaining_timeouts', 'summary.home.points', 'summary.home.used_challenges',\n",
    "       'summary.home.remaining_challenges', 'summary.home.record.wins', 'summary.home.record.losses', 'summary.home.record.ties', 'summary.away.id', 'summary.away.name', 'summary.away.market',\n",
    "       'summary.away.sr_id', 'summary.away.used_timeouts', 'summary.away.remaining_timeouts', 'summary.away.points', 'summary.away.used_challenges', 'summary.away.remaining_challenges', 'summary.away.record.wins', 'summary.away.record.losses', 'summary.away.record.ties']\n",
    "\n",
    "rename_cols = {\"id\": \"game_id\"}\n",
    "\n",
    "games_periods_exploded = fn.drop_rename_cols(games_periods_exploded, drop_cols, rename_cols)"
   ]
  },
  {
   "cell_type": "markdown",
   "id": "2371acc1-80d3-4b19-834d-85b5c6cc2545",
   "metadata": {},
   "source": [
    "## Periods data"
   ]
  },
  {
   "cell_type": "code",
   "execution_count": 9,
   "id": "8b2386c1-ecf5-44a5-bc8e-08abc711209d",
   "metadata": {},
   "outputs": [],
   "source": [
    "periods = pd.json_normalize(games_periods_exploded['periods'])\n",
    "# periods.head()"
   ]
  },
  {
   "cell_type": "code",
   "execution_count": 10,
   "id": "36057917-bd55-4990-900a-7d5a49fd7400",
   "metadata": {},
   "outputs": [],
   "source": [
    "drop_cols = ['id', 'sequence', 'scoring.home.name', 'scoring.home.market', 'scoring.home.points', 'scoring.away.name', 'scoring.away.market', 'scoring.away.points', 'coin_toss.home.outcome',\n",
    "       'coin_toss.home.decision', 'coin_toss.home.direction', 'coin_toss.away.outcome', 'coin_toss.away.decision', 'coin_toss.away.direction']\n",
    "\n",
    "periods = fn.drop_rename_cols(periods, drop_cols, rename_cols)"
   ]
  },
  {
   "cell_type": "markdown",
   "id": "673fe882-04cb-49b2-bd9a-f39c77e2ffa9",
   "metadata": {},
   "source": [
    "### Concatenate with periods DF"
   ]
  },
  {
   "cell_type": "code",
   "execution_count": 11,
   "id": "5caecb4f-55c6-4660-9c08-2c52cbb76ff6",
   "metadata": {},
   "outputs": [],
   "source": [
    "games_periods_exploded_periods = fn.concat_df(games_periods_exploded, periods)\n",
    "# games_periods_exploded_periods.head()"
   ]
  },
  {
   "cell_type": "code",
   "execution_count": 12,
   "id": "8cdb4f7f-ac73-407f-82c5-89bae2a5b499",
   "metadata": {},
   "outputs": [
    {
     "data": {
      "text/plain": [
       "Index(['Unnamed: 0.1', 'Unnamed: 0', 'game_id', 'sr_id', 'game_type',\n",
       "       'periods', 'weather.condition', 'weather.humidity', 'weather.temp',\n",
       "       'weather.wind.speed', 'summary.season.year', 'summary.season.type',\n",
       "       'summary.week.sequence', 'summary.venue.surface',\n",
       "       'summary.venue.roof_type', 'summary.home.alias', 'summary.away.alias',\n",
       "       'period_type', 'number', 'pbp', 'scoring.home.id', 'scoring.home.alias',\n",
       "       'scoring.home.sr_id', 'scoring.away.id', 'scoring.away.alias',\n",
       "       'scoring.away.sr_id'],\n",
       "      dtype='object')"
      ]
     },
     "execution_count": 12,
     "metadata": {},
     "output_type": "execute_result"
    }
   ],
   "source": [
    "games_periods_exploded_periods.columns"
   ]
  },
  {
   "cell_type": "markdown",
   "id": "f71342b0-fc60-4eac-873e-ec62f7b0455f",
   "metadata": {},
   "source": [
    "## PBP data"
   ]
  },
  {
   "cell_type": "code",
   "execution_count": 13,
   "id": "fb5c6e37-7e8d-4247-bdac-9f4f3adab8c7",
   "metadata": {},
   "outputs": [],
   "source": [
    "games_periods_exploded_periods_pbp_exploded = games_periods_exploded_periods.explode('pbp')\n",
    "pbp = pd.json_normalize(games_periods_exploded_periods_pbp_exploded['pbp'])\n",
    "# pbp.head()"
   ]
  },
  {
   "cell_type": "code",
   "execution_count": 14,
   "id": "4343b19d-99dd-4b04-83d3-957eabdc91a6",
   "metadata": {},
   "outputs": [],
   "source": [
    "drop_cols = ['pbp']\n",
    "\n",
    "games_periods_exploded_periods_pbp_exploded = fn.drop_rename_cols(games_periods_exploded_periods_pbp_exploded, drop_cols, rename_cols)"
   ]
  },
  {
   "cell_type": "code",
   "execution_count": 15,
   "id": "5dd28f52-8a87-4679-969c-df8ad599f737",
   "metadata": {},
   "outputs": [],
   "source": [
    "drop_cols = ['home_points', 'away_points', 'play_type', 'fake_punt', 'fake_field_goal', 'screen_pass', 'play_action', 'run_pass_option', 'statistics', 'details', 'start_situation.clock', 'start_situation.down', 'start_situation.yfd', 'start_situation.possession.id', 'start_situation.possession.name',\n",
    "              'start_situation.possession.market', 'start_situation.possession.alias', 'start_situation.possession.sr_id', 'start_situation.location.id', 'start_situation.location.name', 'start_situation.location.market', 'start_situation.location.alias', 'start_situation.location.sr_id', 'start_situation.location.yardline',\n",
    "              'end_situation.clock', 'end_situation.down', 'end_situation.yfd', 'end_situation.possession.id', 'end_situation.possession.name', 'end_situation.possession.market', 'end_situation.possession.alias', 'end_situation.possession.sr_id', 'end_situation.location.id', 'end_situation.location.name',\n",
    "              'end_situation.location.market', 'end_situation.location.alias', 'end_situation.location.sr_id', 'end_situation.location.yardline', 'event_type', 'description', 'type', 'inside_20', 'created_at', 'sequence', 'start_reason', 'end_reason', 'play_count', 'duration', 'first_downs', 'gain', 'penalty_yards', \n",
    "              'scoring_drive', 'created_at', 'updated_at', 'start_clock', 'end_clock', 'first_drive_yardline', 'last_drive_yardline', 'net_yards', 'pat_successful', 'pat_points_attempted', 'offensive_team.points', 'offensive_team.id', 'defensive_team.points', 'defensive_team.id', 'clock', 'wall_clock', 'scoring_play', \n",
    "              'scoring_description', 'hash_mark', 'deleted']\n",
    "\n",
    "rename_cols = {\"id\": \"event_id\"}\n",
    "\n",
    "pbp = fn.drop_rename_cols(pbp, drop_cols, rename_cols)"
   ]
  },
  {
   "cell_type": "markdown",
   "id": "8fc59e32-596f-4cff-880a-d6d4e2a2bb3b",
   "metadata": {},
   "source": [
    "### Concatenate with PBP dataframe"
   ]
  },
  {
   "cell_type": "code",
   "execution_count": 16,
   "id": "df50c91b-45f9-4806-a44e-6b18685665b5",
   "metadata": {},
   "outputs": [],
   "source": [
    "games_periods_exploded_periods_pbp_exploded_pbp = fn.concat_df(games_periods_exploded_periods_pbp_exploded, pbp)\n",
    "# games_periods_exploded_periods_pbp_exploded_pbp.head()"
   ]
  },
  {
   "cell_type": "code",
   "execution_count": 17,
   "id": "abb08b1b-f7e2-4fa2-9038-e623e91f8aac",
   "metadata": {},
   "outputs": [
    {
     "data": {
      "text/plain": [
       "Index(['Unnamed: 0.1', 'Unnamed: 0', 'game_id', 'sr_id', 'game_type',\n",
       "       'periods', 'weather.condition', 'weather.humidity', 'weather.temp',\n",
       "       'weather.wind.speed', 'summary.season.year', 'summary.season.type',\n",
       "       'summary.week.sequence', 'summary.venue.surface',\n",
       "       'summary.venue.roof_type', 'summary.home.alias', 'summary.away.alias',\n",
       "       'period_type', 'number', 'scoring.home.id', 'scoring.home.alias',\n",
       "       'scoring.home.sr_id', 'scoring.away.id', 'scoring.away.alias',\n",
       "       'scoring.away.sr_id', 'event_id', 'team_sequence', 'events'],\n",
       "      dtype='object')"
      ]
     },
     "execution_count": 17,
     "metadata": {},
     "output_type": "execute_result"
    }
   ],
   "source": [
    "games_periods_exploded_periods_pbp_exploded_pbp.columns"
   ]
  },
  {
   "cell_type": "markdown",
   "id": "3a5c6027-4b2e-46f7-a079-c93e73ad3cb0",
   "metadata": {},
   "source": [
    "## Events data"
   ]
  },
  {
   "cell_type": "code",
   "execution_count": 18,
   "id": "80b5d939-dc88-41c8-b7f7-b8a7a52fd5f3",
   "metadata": {},
   "outputs": [],
   "source": [
    "games_periods_exploded_periods_pbp_exploded_pbp_events_exploded = games_periods_exploded_periods_pbp_exploded_pbp.explode('events')\n",
    "\n",
    "# Convert events column to its owned flattened dataframe\n",
    "events_flattened = pd.json_normalize(games_periods_exploded_periods_pbp_exploded_pbp_events_exploded['events'])"
   ]
  },
  {
   "cell_type": "code",
   "execution_count": 19,
   "id": "a2b58408-0795-4ecd-ac2f-86e77883b7e1",
   "metadata": {},
   "outputs": [
    {
     "data": {
      "text/plain": [
       "((51314, 28), (51314, 71))"
      ]
     },
     "execution_count": 19,
     "metadata": {},
     "output_type": "execute_result"
    }
   ],
   "source": [
    "games_periods_exploded_periods_pbp_exploded_pbp_events_exploded.shape, events_flattened.shape"
   ]
  },
  {
   "cell_type": "code",
   "execution_count": 20,
   "id": "248532fd-882b-442c-948a-b3811972128a",
   "metadata": {},
   "outputs": [],
   "source": [
    "drop_cols = ['events']\n",
    "\n",
    "games_periods_exploded_periods_pbp_exploded_pbp_events_exploded = fn.drop_rename_cols(games_periods_exploded_periods_pbp_exploded_pbp_events_exploded, drop_cols, rename_cols)"
   ]
  },
  {
   "cell_type": "code",
   "execution_count": 21,
   "id": "75c82ca0-7ed1-4b32-b36d-cd2106440855",
   "metadata": {},
   "outputs": [],
   "source": [
    "drop_cols = ['event_type', 'blitz', 'goaltogo', 'sequence', 'created_at', 'updated_at', 'start_situation.possession.id', 'start_situation.possession.name', 'start_situation.possession.market', 'start_situation.location.id', 'start_situation.location.name', 'start_situation.location.market', 'score.sequence', 'score.clock', \n",
    "              'score.points', 'score.home_points', 'score.away_points', 'score.points-after-play.id', 'score.points-after-play.sequence', 'score.points-after-play.type', 'event_type', 'running_lane', 'end_situation.location.name',\t'end_situation.location.market', 'end_situation.possession.name',\n",
    "              'end_situation.possession.market', 'end_situation.location.id', 'end_situation.location.sr_id', 'start_situation.possession.sr_id', 'start_situation.location.sr_id', 'end_situation.possession.id', 'end_situation.possession.sr_id', 'details', 'deleted']\n",
    "\n",
    "rename_cols = {\"id\": \"play_id\"}\n",
    "\n",
    "events_flattened = fn.drop_rename_cols(events_flattened, drop_cols, rename_cols)"
   ]
  },
  {
   "cell_type": "markdown",
   "id": "ff8cf4a5-fde7-4166-b9d7-0d09bbedbaa0",
   "metadata": {},
   "source": [
    "### Concatenate with events dataframe"
   ]
  },
  {
   "cell_type": "code",
   "execution_count": 22,
   "id": "573325b6-931f-4092-b5a0-00f22713d54c",
   "metadata": {},
   "outputs": [],
   "source": [
    "games_periods_exploded_periods_pbp_exploded_pbp_events_exploded_events = fn.concat_df(games_periods_exploded_periods_pbp_exploded_pbp_events_exploded, events_flattened)\n",
    "# games_periods_exploded_periods_pbp_exploded_pbp_events_exploded_events.head()"
   ]
  },
  {
   "cell_type": "markdown",
   "id": "a0bfd6fd-6bd8-4cb2-903c-338851a483ec",
   "metadata": {},
   "source": [
    "## Statistics data"
   ]
  },
  {
   "cell_type": "code",
   "execution_count": 23,
   "id": "8c85a0cc-1265-48f1-b143-f9c777f3cf77",
   "metadata": {},
   "outputs": [],
   "source": [
    "games_periods_exploded_periods_pbp_exploded_pbp_events_exploded_events_statistics_exploded = games_periods_exploded_periods_pbp_exploded_pbp_events_exploded_events.explode('statistics')\n",
    "\n",
    "# Convert events column to its owned flattened dataframe\n",
    "statistics_flattened = pd.json_normalize(games_periods_exploded_periods_pbp_exploded_pbp_events_exploded_events_statistics_exploded['statistics'])"
   ]
  },
  {
   "cell_type": "code",
   "execution_count": 24,
   "id": "00398223-3723-470a-b3ed-1cc96006b318",
   "metadata": {},
   "outputs": [],
   "source": [
    "drop_cols = ['statistics']\n",
    "games_periods_exploded_periods_pbp_exploded_pbp_events_exploded_events_statistics_exploded = fn.drop_rename_cols(games_periods_exploded_periods_pbp_exploded_pbp_events_exploded_events_statistics_exploded, drop_cols, rename_cols)"
   ]
  },
  {
   "cell_type": "code",
   "execution_count": 25,
   "id": "b2c12938-dac0-4ba1-b0f0-8c623d9ba2d9",
   "metadata": {},
   "outputs": [],
   "source": [
    "drop_cols = ['missed_tackles', 'def_comp', 'hang_time', 'faircatch', 'nullified', 'sack', 'sack_yards', 'ast_sack', 'tlost', 'tlost_yards', 'ast_tlost', 'fumble', 'forced', 'own_rec', 'own_rec_yards', 'squib_kick', 'onside_attempt', 'onside_success', 'play_category', \n",
    "                'forced_fumble', 'out_of_bounds', 'category', 'team.name', 'team.market', 'touchback', 'net_yards', 'kneel_down', 'scramble', 'ast_tackle', 'down', 'made', 'penalty', 'qb_hit', 'missed', 'return', 'pass_defended']\n",
    "\n",
    "statistics_flattened = fn.drop_rename_cols(statistics_flattened, drop_cols, rename_cols)"
   ]
  },
  {
   "cell_type": "markdown",
   "id": "cf57530d-b3ea-441a-9b60-596dbb200de0",
   "metadata": {},
   "source": [
    "### Concatenate with statistics dataframe"
   ]
  },
  {
   "cell_type": "code",
   "execution_count": 26,
   "id": "390a5bb7-6c36-4405-a5ce-ef65283b8d92",
   "metadata": {},
   "outputs": [
    {
     "data": {
      "text/html": [
       "<div>\n",
       "<style scoped>\n",
       "    .dataframe tbody tr th:only-of-type {\n",
       "        vertical-align: middle;\n",
       "    }\n",
       "\n",
       "    .dataframe tbody tr th {\n",
       "        vertical-align: top;\n",
       "    }\n",
       "\n",
       "    .dataframe thead th {\n",
       "        text-align: right;\n",
       "    }\n",
       "</style>\n",
       "<table border=\"1\" class=\"dataframe\">\n",
       "  <thead>\n",
       "    <tr style=\"text-align: right;\">\n",
       "      <th></th>\n",
       "      <th>Unnamed: 0.1</th>\n",
       "      <th>Unnamed: 0</th>\n",
       "      <th>game_id</th>\n",
       "      <th>sr_id</th>\n",
       "      <th>game_type</th>\n",
       "      <th>periods</th>\n",
       "      <th>weather.condition</th>\n",
       "      <th>weather.humidity</th>\n",
       "      <th>weather.temp</th>\n",
       "      <th>weather.wind.speed</th>\n",
       "      <th>summary.season.year</th>\n",
       "      <th>summary.season.type</th>\n",
       "      <th>summary.week.sequence</th>\n",
       "      <th>summary.venue.surface</th>\n",
       "      <th>summary.venue.roof_type</th>\n",
       "      <th>summary.home.alias</th>\n",
       "      <th>summary.away.alias</th>\n",
       "      <th>period_type</th>\n",
       "      <th>number</th>\n",
       "      <th>scoring.home.id</th>\n",
       "      <th>scoring.home.alias</th>\n",
       "      <th>scoring.home.sr_id</th>\n",
       "      <th>scoring.away.id</th>\n",
       "      <th>scoring.away.alias</th>\n",
       "      <th>scoring.away.sr_id</th>\n",
       "      <th>event_id</th>\n",
       "      <th>team_sequence</th>\n",
       "      <th>type</th>\n",
       "      <th>play_id</th>\n",
       "      <th>clock</th>\n",
       "      <th>home_points</th>\n",
       "      <th>away_points</th>\n",
       "      <th>play_type</th>\n",
       "      <th>wall_clock</th>\n",
       "      <th>description</th>\n",
       "      <th>fake_punt</th>\n",
       "      <th>fake_field_goal</th>\n",
       "      <th>screen_pass</th>\n",
       "      <th>hash_mark</th>\n",
       "      <th>play_action</th>\n",
       "      <th>run_pass_option</th>\n",
       "      <th>start_situation.clock</th>\n",
       "      <th>start_situation.down</th>\n",
       "      <th>start_situation.yfd</th>\n",
       "      <th>start_situation.possession.alias</th>\n",
       "      <th>start_situation.location.alias</th>\n",
       "      <th>start_situation.location.yardline</th>\n",
       "      <th>end_situation.clock</th>\n",
       "      <th>end_situation.down</th>\n",
       "      <th>end_situation.yfd</th>\n",
       "      <th>end_situation.possession.alias</th>\n",
       "      <th>end_situation.location.alias</th>\n",
       "      <th>end_situation.location.yardline</th>\n",
       "      <th>players_rushed</th>\n",
       "      <th>men_in_box</th>\n",
       "      <th>play_direction</th>\n",
       "      <th>left_tightends</th>\n",
       "      <th>right_tightends</th>\n",
       "      <th>pocket_location</th>\n",
       "      <th>qb_at_snap</th>\n",
       "      <th>huddle</th>\n",
       "      <th>pass_route</th>\n",
       "      <th>scoring_play</th>\n",
       "      <th>scoring_description</th>\n",
       "      <th>stat_type</th>\n",
       "      <th>attempt</th>\n",
       "      <th>yards</th>\n",
       "      <th>player.id</th>\n",
       "      <th>player.name</th>\n",
       "      <th>player.jersey</th>\n",
       "      <th>player.position</th>\n",
       "      <th>player.sr_id</th>\n",
       "      <th>team.id</th>\n",
       "      <th>team.alias</th>\n",
       "      <th>team.sr_id</th>\n",
       "      <th>complete</th>\n",
       "      <th>att_yards</th>\n",
       "      <th>firstdown</th>\n",
       "      <th>inside_20</th>\n",
       "      <th>goaltogo</th>\n",
       "      <th>blitz</th>\n",
       "      <th>hurry</th>\n",
       "      <th>knockdown</th>\n",
       "      <th>pocket_time</th>\n",
       "      <th>on_target_throw</th>\n",
       "      <th>batted_pass</th>\n",
       "      <th>target</th>\n",
       "      <th>reception</th>\n",
       "      <th>yards_after_catch</th>\n",
       "      <th>dropped</th>\n",
       "      <th>catchable</th>\n",
       "      <th>tackle</th>\n",
       "      <th>def_target</th>\n",
       "      <th>broken_tackles</th>\n",
       "      <th>yards_after_contact</th>\n",
       "      <th>touchdown</th>\n",
       "      <th>endzone</th>\n",
       "      <th>interception</th>\n",
       "      <th>incompletion_type</th>\n",
       "      <th>int_yards</th>\n",
       "      <th>opp_rec</th>\n",
       "      <th>opp_rec_yards</th>\n",
       "      <th>lost</th>\n",
       "      <th>blocked</th>\n",
       "      <th>block</th>\n",
       "      <th>int_touchdown</th>\n",
       "      <th>opp_rec_td</th>\n",
       "      <th>safety</th>\n",
       "      <th>own_rec_td</th>\n",
       "      <th>downed</th>\n",
       "    </tr>\n",
       "  </thead>\n",
       "  <tbody>\n",
       "    <tr>\n",
       "      <th>0</th>\n",
       "      <td>0</td>\n",
       "      <td>0</td>\n",
       "      <td>bf60c8fc-35cd-4749-a29e-4f48d66da57c</td>\n",
       "      <td>sr:match:33622875</td>\n",
       "      <td>regular</td>\n",
       "      <td>{'period_type': 'quarter', 'id': '1ce4819a-9e7...</td>\n",
       "      <td>Cloudy</td>\n",
       "      <td>48</td>\n",
       "      <td>88</td>\n",
       "      <td>8</td>\n",
       "      <td>2022</td>\n",
       "      <td>REG</td>\n",
       "      <td>1</td>\n",
       "      <td>artificial</td>\n",
       "      <td>outdoor</td>\n",
       "      <td>LA</td>\n",
       "      <td>BUF</td>\n",
       "      <td>quarter</td>\n",
       "      <td>1</td>\n",
       "      <td>2eff2a03-54d4-46ba-890e-2bc3925548f3</td>\n",
       "      <td>LA</td>\n",
       "      <td>sr:competitor:4387</td>\n",
       "      <td>768c92aa-75ff-4a43-bcc0-f2798c2e1724</td>\n",
       "      <td>BUF</td>\n",
       "      <td>sr:competitor:4376</td>\n",
       "      <td>b8a4b06c-7a04-427a-84af-c06984e0286e</td>\n",
       "      <td>1</td>\n",
       "      <td>play</td>\n",
       "      <td>fb5c7670-2fcf-11ed-b415-9ba7d2295705</td>\n",
       "      <td>15:00</td>\n",
       "      <td>0</td>\n",
       "      <td>0</td>\n",
       "      <td>kickoff</td>\n",
       "      <td>2022-09-09T00:23:36+00:00</td>\n",
       "      <td>M.Gay kicks 65 yards from LA 35 to the BUF End...</td>\n",
       "      <td>False</td>\n",
       "      <td>False</td>\n",
       "      <td>False</td>\n",
       "      <td>Middle</td>\n",
       "      <td>False</td>\n",
       "      <td>False</td>\n",
       "      <td>15:00</td>\n",
       "      <td>0</td>\n",
       "      <td>0</td>\n",
       "      <td>LA</td>\n",
       "      <td>LA</td>\n",
       "      <td>35</td>\n",
       "      <td>15:00</td>\n",
       "      <td>1</td>\n",
       "      <td>10</td>\n",
       "      <td>BUF</td>\n",
       "      <td>BUF</td>\n",
       "      <td>25</td>\n",
       "      <td>NaN</td>\n",
       "      <td>NaN</td>\n",
       "      <td>NaN</td>\n",
       "      <td>NaN</td>\n",
       "      <td>NaN</td>\n",
       "      <td>NaN</td>\n",
       "      <td>NaN</td>\n",
       "      <td>NaN</td>\n",
       "      <td>NaN</td>\n",
       "      <td>NaN</td>\n",
       "      <td>NaN</td>\n",
       "      <td>kick</td>\n",
       "      <td>1</td>\n",
       "      <td>65</td>\n",
       "      <td>2b90e091-ef78-4753-93eb-0acf3632c206</td>\n",
       "      <td>Matt Gay</td>\n",
       "      <td>08</td>\n",
       "      <td>K</td>\n",
       "      <td>sr:player:1262704</td>\n",
       "      <td>2eff2a03-54d4-46ba-890e-2bc3925548f3</td>\n",
       "      <td>LA</td>\n",
       "      <td>sr:competitor:4387</td>\n",
       "      <td>NaN</td>\n",
       "      <td>NaN</td>\n",
       "      <td>NaN</td>\n",
       "      <td>NaN</td>\n",
       "      <td>NaN</td>\n",
       "      <td>NaN</td>\n",
       "      <td>NaN</td>\n",
       "      <td>NaN</td>\n",
       "      <td>NaN</td>\n",
       "      <td>NaN</td>\n",
       "      <td>NaN</td>\n",
       "      <td>NaN</td>\n",
       "      <td>NaN</td>\n",
       "      <td>NaN</td>\n",
       "      <td>NaN</td>\n",
       "      <td>NaN</td>\n",
       "      <td>NaN</td>\n",
       "      <td>NaN</td>\n",
       "      <td>NaN</td>\n",
       "      <td>NaN</td>\n",
       "      <td>NaN</td>\n",
       "      <td>NaN</td>\n",
       "      <td>NaN</td>\n",
       "      <td>NaN</td>\n",
       "      <td>NaN</td>\n",
       "      <td>NaN</td>\n",
       "      <td>NaN</td>\n",
       "      <td>NaN</td>\n",
       "      <td>NaN</td>\n",
       "      <td>NaN</td>\n",
       "      <td>NaN</td>\n",
       "      <td>NaN</td>\n",
       "      <td>NaN</td>\n",
       "      <td>NaN</td>\n",
       "      <td>NaN</td>\n",
       "    </tr>\n",
       "    <tr>\n",
       "      <th>1</th>\n",
       "      <td>0</td>\n",
       "      <td>0</td>\n",
       "      <td>bf60c8fc-35cd-4749-a29e-4f48d66da57c</td>\n",
       "      <td>sr:match:33622875</td>\n",
       "      <td>regular</td>\n",
       "      <td>{'period_type': 'quarter', 'id': '1ce4819a-9e7...</td>\n",
       "      <td>Cloudy</td>\n",
       "      <td>48</td>\n",
       "      <td>88</td>\n",
       "      <td>8</td>\n",
       "      <td>2022</td>\n",
       "      <td>REG</td>\n",
       "      <td>1</td>\n",
       "      <td>artificial</td>\n",
       "      <td>outdoor</td>\n",
       "      <td>LA</td>\n",
       "      <td>BUF</td>\n",
       "      <td>quarter</td>\n",
       "      <td>1</td>\n",
       "      <td>2eff2a03-54d4-46ba-890e-2bc3925548f3</td>\n",
       "      <td>LA</td>\n",
       "      <td>sr:competitor:4387</td>\n",
       "      <td>768c92aa-75ff-4a43-bcc0-f2798c2e1724</td>\n",
       "      <td>BUF</td>\n",
       "      <td>sr:competitor:4376</td>\n",
       "      <td>b8a4b06c-7a04-427a-84af-c06984e0286e</td>\n",
       "      <td>1</td>\n",
       "      <td>play</td>\n",
       "      <td>fb5c7670-2fcf-11ed-b415-9ba7d2295705</td>\n",
       "      <td>15:00</td>\n",
       "      <td>0</td>\n",
       "      <td>0</td>\n",
       "      <td>kickoff</td>\n",
       "      <td>2022-09-09T00:23:36+00:00</td>\n",
       "      <td>M.Gay kicks 65 yards from LA 35 to the BUF End...</td>\n",
       "      <td>False</td>\n",
       "      <td>False</td>\n",
       "      <td>False</td>\n",
       "      <td>Middle</td>\n",
       "      <td>False</td>\n",
       "      <td>False</td>\n",
       "      <td>15:00</td>\n",
       "      <td>0</td>\n",
       "      <td>0</td>\n",
       "      <td>LA</td>\n",
       "      <td>LA</td>\n",
       "      <td>35</td>\n",
       "      <td>15:00</td>\n",
       "      <td>1</td>\n",
       "      <td>10</td>\n",
       "      <td>BUF</td>\n",
       "      <td>BUF</td>\n",
       "      <td>25</td>\n",
       "      <td>NaN</td>\n",
       "      <td>NaN</td>\n",
       "      <td>NaN</td>\n",
       "      <td>NaN</td>\n",
       "      <td>NaN</td>\n",
       "      <td>NaN</td>\n",
       "      <td>NaN</td>\n",
       "      <td>NaN</td>\n",
       "      <td>NaN</td>\n",
       "      <td>NaN</td>\n",
       "      <td>NaN</td>\n",
       "      <td>return</td>\n",
       "      <td>NaN</td>\n",
       "      <td>NaN</td>\n",
       "      <td>NaN</td>\n",
       "      <td>NaN</td>\n",
       "      <td>NaN</td>\n",
       "      <td>NaN</td>\n",
       "      <td>NaN</td>\n",
       "      <td>768c92aa-75ff-4a43-bcc0-f2798c2e1724</td>\n",
       "      <td>BUF</td>\n",
       "      <td>sr:competitor:4376</td>\n",
       "      <td>NaN</td>\n",
       "      <td>NaN</td>\n",
       "      <td>NaN</td>\n",
       "      <td>NaN</td>\n",
       "      <td>NaN</td>\n",
       "      <td>NaN</td>\n",
       "      <td>NaN</td>\n",
       "      <td>NaN</td>\n",
       "      <td>NaN</td>\n",
       "      <td>NaN</td>\n",
       "      <td>NaN</td>\n",
       "      <td>NaN</td>\n",
       "      <td>NaN</td>\n",
       "      <td>NaN</td>\n",
       "      <td>NaN</td>\n",
       "      <td>NaN</td>\n",
       "      <td>NaN</td>\n",
       "      <td>NaN</td>\n",
       "      <td>NaN</td>\n",
       "      <td>NaN</td>\n",
       "      <td>NaN</td>\n",
       "      <td>NaN</td>\n",
       "      <td>NaN</td>\n",
       "      <td>NaN</td>\n",
       "      <td>NaN</td>\n",
       "      <td>NaN</td>\n",
       "      <td>NaN</td>\n",
       "      <td>NaN</td>\n",
       "      <td>NaN</td>\n",
       "      <td>NaN</td>\n",
       "      <td>NaN</td>\n",
       "      <td>NaN</td>\n",
       "      <td>NaN</td>\n",
       "      <td>NaN</td>\n",
       "      <td>NaN</td>\n",
       "    </tr>\n",
       "    <tr>\n",
       "      <th>2</th>\n",
       "      <td>0</td>\n",
       "      <td>0</td>\n",
       "      <td>bf60c8fc-35cd-4749-a29e-4f48d66da57c</td>\n",
       "      <td>sr:match:33622875</td>\n",
       "      <td>regular</td>\n",
       "      <td>{'period_type': 'quarter', 'id': '1ce4819a-9e7...</td>\n",
       "      <td>Cloudy</td>\n",
       "      <td>48</td>\n",
       "      <td>88</td>\n",
       "      <td>8</td>\n",
       "      <td>2022</td>\n",
       "      <td>REG</td>\n",
       "      <td>1</td>\n",
       "      <td>artificial</td>\n",
       "      <td>outdoor</td>\n",
       "      <td>LA</td>\n",
       "      <td>BUF</td>\n",
       "      <td>quarter</td>\n",
       "      <td>1</td>\n",
       "      <td>2eff2a03-54d4-46ba-890e-2bc3925548f3</td>\n",
       "      <td>LA</td>\n",
       "      <td>sr:competitor:4387</td>\n",
       "      <td>768c92aa-75ff-4a43-bcc0-f2798c2e1724</td>\n",
       "      <td>BUF</td>\n",
       "      <td>sr:competitor:4376</td>\n",
       "      <td>b8a4b06c-7a04-427a-84af-c06984e0286e</td>\n",
       "      <td>1</td>\n",
       "      <td>play</td>\n",
       "      <td>a8b90270-2fd5-11ed-b415-9ba7d2295705</td>\n",
       "      <td>15:00</td>\n",
       "      <td>0</td>\n",
       "      <td>0</td>\n",
       "      <td>pass</td>\n",
       "      <td>2022-09-09T00:24:21+00:00</td>\n",
       "      <td>J.Allen pass short right complete to BUF 30. C...</td>\n",
       "      <td>False</td>\n",
       "      <td>False</td>\n",
       "      <td>False</td>\n",
       "      <td>Right Hash</td>\n",
       "      <td>False</td>\n",
       "      <td>False</td>\n",
       "      <td>15:00</td>\n",
       "      <td>1</td>\n",
       "      <td>10</td>\n",
       "      <td>BUF</td>\n",
       "      <td>BUF</td>\n",
       "      <td>25</td>\n",
       "      <td>14:30</td>\n",
       "      <td>2</td>\n",
       "      <td>4</td>\n",
       "      <td>BUF</td>\n",
       "      <td>BUF</td>\n",
       "      <td>31</td>\n",
       "      <td>4</td>\n",
       "      <td>6</td>\n",
       "      <td>Right</td>\n",
       "      <td>0</td>\n",
       "      <td>1</td>\n",
       "      <td>Middle</td>\n",
       "      <td>Shotgun</td>\n",
       "      <td>Huddle</td>\n",
       "      <td>In</td>\n",
       "      <td>NaN</td>\n",
       "      <td>NaN</td>\n",
       "      <td>pass</td>\n",
       "      <td>1</td>\n",
       "      <td>6</td>\n",
       "      <td>3069db07-aa43-4503-ab11-2ae5c0002721</td>\n",
       "      <td>Josh Allen</td>\n",
       "      <td>17</td>\n",
       "      <td>QB</td>\n",
       "      <td>sr:player:1208608</td>\n",
       "      <td>768c92aa-75ff-4a43-bcc0-f2798c2e1724</td>\n",
       "      <td>BUF</td>\n",
       "      <td>sr:competitor:4376</td>\n",
       "      <td>1</td>\n",
       "      <td>5</td>\n",
       "      <td>0</td>\n",
       "      <td>0</td>\n",
       "      <td>0</td>\n",
       "      <td>0</td>\n",
       "      <td>0</td>\n",
       "      <td>0</td>\n",
       "      <td>1</td>\n",
       "      <td>1</td>\n",
       "      <td>0</td>\n",
       "      <td>NaN</td>\n",
       "      <td>NaN</td>\n",
       "      <td>NaN</td>\n",
       "      <td>NaN</td>\n",
       "      <td>NaN</td>\n",
       "      <td>NaN</td>\n",
       "      <td>NaN</td>\n",
       "      <td>NaN</td>\n",
       "      <td>NaN</td>\n",
       "      <td>NaN</td>\n",
       "      <td>NaN</td>\n",
       "      <td>NaN</td>\n",
       "      <td>NaN</td>\n",
       "      <td>NaN</td>\n",
       "      <td>NaN</td>\n",
       "      <td>NaN</td>\n",
       "      <td>NaN</td>\n",
       "      <td>NaN</td>\n",
       "      <td>NaN</td>\n",
       "      <td>NaN</td>\n",
       "      <td>NaN</td>\n",
       "      <td>NaN</td>\n",
       "      <td>NaN</td>\n",
       "      <td>NaN</td>\n",
       "    </tr>\n",
       "    <tr>\n",
       "      <th>3</th>\n",
       "      <td>0</td>\n",
       "      <td>0</td>\n",
       "      <td>bf60c8fc-35cd-4749-a29e-4f48d66da57c</td>\n",
       "      <td>sr:match:33622875</td>\n",
       "      <td>regular</td>\n",
       "      <td>{'period_type': 'quarter', 'id': '1ce4819a-9e7...</td>\n",
       "      <td>Cloudy</td>\n",
       "      <td>48</td>\n",
       "      <td>88</td>\n",
       "      <td>8</td>\n",
       "      <td>2022</td>\n",
       "      <td>REG</td>\n",
       "      <td>1</td>\n",
       "      <td>artificial</td>\n",
       "      <td>outdoor</td>\n",
       "      <td>LA</td>\n",
       "      <td>BUF</td>\n",
       "      <td>quarter</td>\n",
       "      <td>1</td>\n",
       "      <td>2eff2a03-54d4-46ba-890e-2bc3925548f3</td>\n",
       "      <td>LA</td>\n",
       "      <td>sr:competitor:4387</td>\n",
       "      <td>768c92aa-75ff-4a43-bcc0-f2798c2e1724</td>\n",
       "      <td>BUF</td>\n",
       "      <td>sr:competitor:4376</td>\n",
       "      <td>b8a4b06c-7a04-427a-84af-c06984e0286e</td>\n",
       "      <td>1</td>\n",
       "      <td>play</td>\n",
       "      <td>a8b90270-2fd5-11ed-b415-9ba7d2295705</td>\n",
       "      <td>15:00</td>\n",
       "      <td>0</td>\n",
       "      <td>0</td>\n",
       "      <td>pass</td>\n",
       "      <td>2022-09-09T00:24:21+00:00</td>\n",
       "      <td>J.Allen pass short right complete to BUF 30. C...</td>\n",
       "      <td>False</td>\n",
       "      <td>False</td>\n",
       "      <td>False</td>\n",
       "      <td>Right Hash</td>\n",
       "      <td>False</td>\n",
       "      <td>False</td>\n",
       "      <td>15:00</td>\n",
       "      <td>1</td>\n",
       "      <td>10</td>\n",
       "      <td>BUF</td>\n",
       "      <td>BUF</td>\n",
       "      <td>25</td>\n",
       "      <td>14:30</td>\n",
       "      <td>2</td>\n",
       "      <td>4</td>\n",
       "      <td>BUF</td>\n",
       "      <td>BUF</td>\n",
       "      <td>31</td>\n",
       "      <td>4</td>\n",
       "      <td>6</td>\n",
       "      <td>Right</td>\n",
       "      <td>0</td>\n",
       "      <td>1</td>\n",
       "      <td>Middle</td>\n",
       "      <td>Shotgun</td>\n",
       "      <td>Huddle</td>\n",
       "      <td>In</td>\n",
       "      <td>NaN</td>\n",
       "      <td>NaN</td>\n",
       "      <td>receive</td>\n",
       "      <td>NaN</td>\n",
       "      <td>6</td>\n",
       "      <td>a1c40664-b265-4083-aad2-54b4c734f2c5</td>\n",
       "      <td>Stefon Diggs</td>\n",
       "      <td>14</td>\n",
       "      <td>WR</td>\n",
       "      <td>sr:player:835197</td>\n",
       "      <td>768c92aa-75ff-4a43-bcc0-f2798c2e1724</td>\n",
       "      <td>BUF</td>\n",
       "      <td>sr:competitor:4376</td>\n",
       "      <td>NaN</td>\n",
       "      <td>NaN</td>\n",
       "      <td>0</td>\n",
       "      <td>0</td>\n",
       "      <td>0</td>\n",
       "      <td>NaN</td>\n",
       "      <td>NaN</td>\n",
       "      <td>NaN</td>\n",
       "      <td>NaN</td>\n",
       "      <td>NaN</td>\n",
       "      <td>NaN</td>\n",
       "      <td>1</td>\n",
       "      <td>1</td>\n",
       "      <td>1</td>\n",
       "      <td>0</td>\n",
       "      <td>0</td>\n",
       "      <td>NaN</td>\n",
       "      <td>NaN</td>\n",
       "      <td>NaN</td>\n",
       "      <td>NaN</td>\n",
       "      <td>NaN</td>\n",
       "      <td>NaN</td>\n",
       "      <td>NaN</td>\n",
       "      <td>NaN</td>\n",
       "      <td>NaN</td>\n",
       "      <td>NaN</td>\n",
       "      <td>NaN</td>\n",
       "      <td>NaN</td>\n",
       "      <td>NaN</td>\n",
       "      <td>NaN</td>\n",
       "      <td>NaN</td>\n",
       "      <td>NaN</td>\n",
       "      <td>NaN</td>\n",
       "      <td>NaN</td>\n",
       "      <td>NaN</td>\n",
       "    </tr>\n",
       "    <tr>\n",
       "      <th>4</th>\n",
       "      <td>0</td>\n",
       "      <td>0</td>\n",
       "      <td>bf60c8fc-35cd-4749-a29e-4f48d66da57c</td>\n",
       "      <td>sr:match:33622875</td>\n",
       "      <td>regular</td>\n",
       "      <td>{'period_type': 'quarter', 'id': '1ce4819a-9e7...</td>\n",
       "      <td>Cloudy</td>\n",
       "      <td>48</td>\n",
       "      <td>88</td>\n",
       "      <td>8</td>\n",
       "      <td>2022</td>\n",
       "      <td>REG</td>\n",
       "      <td>1</td>\n",
       "      <td>artificial</td>\n",
       "      <td>outdoor</td>\n",
       "      <td>LA</td>\n",
       "      <td>BUF</td>\n",
       "      <td>quarter</td>\n",
       "      <td>1</td>\n",
       "      <td>2eff2a03-54d4-46ba-890e-2bc3925548f3</td>\n",
       "      <td>LA</td>\n",
       "      <td>sr:competitor:4387</td>\n",
       "      <td>768c92aa-75ff-4a43-bcc0-f2798c2e1724</td>\n",
       "      <td>BUF</td>\n",
       "      <td>sr:competitor:4376</td>\n",
       "      <td>b8a4b06c-7a04-427a-84af-c06984e0286e</td>\n",
       "      <td>1</td>\n",
       "      <td>play</td>\n",
       "      <td>a8b90270-2fd5-11ed-b415-9ba7d2295705</td>\n",
       "      <td>15:00</td>\n",
       "      <td>0</td>\n",
       "      <td>0</td>\n",
       "      <td>pass</td>\n",
       "      <td>2022-09-09T00:24:21+00:00</td>\n",
       "      <td>J.Allen pass short right complete to BUF 30. C...</td>\n",
       "      <td>False</td>\n",
       "      <td>False</td>\n",
       "      <td>False</td>\n",
       "      <td>Right Hash</td>\n",
       "      <td>False</td>\n",
       "      <td>False</td>\n",
       "      <td>15:00</td>\n",
       "      <td>1</td>\n",
       "      <td>10</td>\n",
       "      <td>BUF</td>\n",
       "      <td>BUF</td>\n",
       "      <td>25</td>\n",
       "      <td>14:30</td>\n",
       "      <td>2</td>\n",
       "      <td>4</td>\n",
       "      <td>BUF</td>\n",
       "      <td>BUF</td>\n",
       "      <td>31</td>\n",
       "      <td>4</td>\n",
       "      <td>6</td>\n",
       "      <td>Right</td>\n",
       "      <td>0</td>\n",
       "      <td>1</td>\n",
       "      <td>Middle</td>\n",
       "      <td>Shotgun</td>\n",
       "      <td>Huddle</td>\n",
       "      <td>In</td>\n",
       "      <td>NaN</td>\n",
       "      <td>NaN</td>\n",
       "      <td>defense</td>\n",
       "      <td>NaN</td>\n",
       "      <td>NaN</td>\n",
       "      <td>ca53fda9-d20a-4bc7-b8dc-deef28355399</td>\n",
       "      <td>Jalen Ramsey</td>\n",
       "      <td>05</td>\n",
       "      <td>DB</td>\n",
       "      <td>sr:player:986891</td>\n",
       "      <td>2eff2a03-54d4-46ba-890e-2bc3925548f3</td>\n",
       "      <td>LA</td>\n",
       "      <td>sr:competitor:4387</td>\n",
       "      <td>NaN</td>\n",
       "      <td>NaN</td>\n",
       "      <td>NaN</td>\n",
       "      <td>NaN</td>\n",
       "      <td>NaN</td>\n",
       "      <td>0</td>\n",
       "      <td>0</td>\n",
       "      <td>0</td>\n",
       "      <td>NaN</td>\n",
       "      <td>NaN</td>\n",
       "      <td>0</td>\n",
       "      <td>NaN</td>\n",
       "      <td>NaN</td>\n",
       "      <td>NaN</td>\n",
       "      <td>NaN</td>\n",
       "      <td>NaN</td>\n",
       "      <td>1</td>\n",
       "      <td>1</td>\n",
       "      <td>NaN</td>\n",
       "      <td>NaN</td>\n",
       "      <td>NaN</td>\n",
       "      <td>NaN</td>\n",
       "      <td>NaN</td>\n",
       "      <td>NaN</td>\n",
       "      <td>NaN</td>\n",
       "      <td>NaN</td>\n",
       "      <td>NaN</td>\n",
       "      <td>NaN</td>\n",
       "      <td>NaN</td>\n",
       "      <td>NaN</td>\n",
       "      <td>NaN</td>\n",
       "      <td>NaN</td>\n",
       "      <td>NaN</td>\n",
       "      <td>NaN</td>\n",
       "      <td>NaN</td>\n",
       "    </tr>\n",
       "  </tbody>\n",
       "</table>\n",
       "</div>"
      ],
      "text/plain": [
       "   Unnamed: 0.1  Unnamed: 0                               game_id  \\\n",
       "0             0           0  bf60c8fc-35cd-4749-a29e-4f48d66da57c   \n",
       "1             0           0  bf60c8fc-35cd-4749-a29e-4f48d66da57c   \n",
       "2             0           0  bf60c8fc-35cd-4749-a29e-4f48d66da57c   \n",
       "3             0           0  bf60c8fc-35cd-4749-a29e-4f48d66da57c   \n",
       "4             0           0  bf60c8fc-35cd-4749-a29e-4f48d66da57c   \n",
       "\n",
       "               sr_id game_type  \\\n",
       "0  sr:match:33622875   regular   \n",
       "1  sr:match:33622875   regular   \n",
       "2  sr:match:33622875   regular   \n",
       "3  sr:match:33622875   regular   \n",
       "4  sr:match:33622875   regular   \n",
       "\n",
       "                                             periods weather.condition  \\\n",
       "0  {'period_type': 'quarter', 'id': '1ce4819a-9e7...            Cloudy   \n",
       "1  {'period_type': 'quarter', 'id': '1ce4819a-9e7...            Cloudy   \n",
       "2  {'period_type': 'quarter', 'id': '1ce4819a-9e7...            Cloudy   \n",
       "3  {'period_type': 'quarter', 'id': '1ce4819a-9e7...            Cloudy   \n",
       "4  {'period_type': 'quarter', 'id': '1ce4819a-9e7...            Cloudy   \n",
       "\n",
       "   weather.humidity  weather.temp  weather.wind.speed  summary.season.year  \\\n",
       "0                48            88                   8                 2022   \n",
       "1                48            88                   8                 2022   \n",
       "2                48            88                   8                 2022   \n",
       "3                48            88                   8                 2022   \n",
       "4                48            88                   8                 2022   \n",
       "\n",
       "  summary.season.type  summary.week.sequence summary.venue.surface  \\\n",
       "0                 REG                      1            artificial   \n",
       "1                 REG                      1            artificial   \n",
       "2                 REG                      1            artificial   \n",
       "3                 REG                      1            artificial   \n",
       "4                 REG                      1            artificial   \n",
       "\n",
       "  summary.venue.roof_type summary.home.alias summary.away.alias period_type  \\\n",
       "0                 outdoor                 LA                BUF     quarter   \n",
       "1                 outdoor                 LA                BUF     quarter   \n",
       "2                 outdoor                 LA                BUF     quarter   \n",
       "3                 outdoor                 LA                BUF     quarter   \n",
       "4                 outdoor                 LA                BUF     quarter   \n",
       "\n",
       "   number                       scoring.home.id scoring.home.alias  \\\n",
       "0       1  2eff2a03-54d4-46ba-890e-2bc3925548f3                 LA   \n",
       "1       1  2eff2a03-54d4-46ba-890e-2bc3925548f3                 LA   \n",
       "2       1  2eff2a03-54d4-46ba-890e-2bc3925548f3                 LA   \n",
       "3       1  2eff2a03-54d4-46ba-890e-2bc3925548f3                 LA   \n",
       "4       1  2eff2a03-54d4-46ba-890e-2bc3925548f3                 LA   \n",
       "\n",
       "   scoring.home.sr_id                       scoring.away.id  \\\n",
       "0  sr:competitor:4387  768c92aa-75ff-4a43-bcc0-f2798c2e1724   \n",
       "1  sr:competitor:4387  768c92aa-75ff-4a43-bcc0-f2798c2e1724   \n",
       "2  sr:competitor:4387  768c92aa-75ff-4a43-bcc0-f2798c2e1724   \n",
       "3  sr:competitor:4387  768c92aa-75ff-4a43-bcc0-f2798c2e1724   \n",
       "4  sr:competitor:4387  768c92aa-75ff-4a43-bcc0-f2798c2e1724   \n",
       "\n",
       "  scoring.away.alias  scoring.away.sr_id  \\\n",
       "0                BUF  sr:competitor:4376   \n",
       "1                BUF  sr:competitor:4376   \n",
       "2                BUF  sr:competitor:4376   \n",
       "3                BUF  sr:competitor:4376   \n",
       "4                BUF  sr:competitor:4376   \n",
       "\n",
       "                               event_id  team_sequence  type  \\\n",
       "0  b8a4b06c-7a04-427a-84af-c06984e0286e              1  play   \n",
       "1  b8a4b06c-7a04-427a-84af-c06984e0286e              1  play   \n",
       "2  b8a4b06c-7a04-427a-84af-c06984e0286e              1  play   \n",
       "3  b8a4b06c-7a04-427a-84af-c06984e0286e              1  play   \n",
       "4  b8a4b06c-7a04-427a-84af-c06984e0286e              1  play   \n",
       "\n",
       "                                play_id  clock  home_points  away_points  \\\n",
       "0  fb5c7670-2fcf-11ed-b415-9ba7d2295705  15:00            0            0   \n",
       "1  fb5c7670-2fcf-11ed-b415-9ba7d2295705  15:00            0            0   \n",
       "2  a8b90270-2fd5-11ed-b415-9ba7d2295705  15:00            0            0   \n",
       "3  a8b90270-2fd5-11ed-b415-9ba7d2295705  15:00            0            0   \n",
       "4  a8b90270-2fd5-11ed-b415-9ba7d2295705  15:00            0            0   \n",
       "\n",
       "  play_type                 wall_clock  \\\n",
       "0   kickoff  2022-09-09T00:23:36+00:00   \n",
       "1   kickoff  2022-09-09T00:23:36+00:00   \n",
       "2      pass  2022-09-09T00:24:21+00:00   \n",
       "3      pass  2022-09-09T00:24:21+00:00   \n",
       "4      pass  2022-09-09T00:24:21+00:00   \n",
       "\n",
       "                                         description fake_punt  \\\n",
       "0  M.Gay kicks 65 yards from LA 35 to the BUF End...     False   \n",
       "1  M.Gay kicks 65 yards from LA 35 to the BUF End...     False   \n",
       "2  J.Allen pass short right complete to BUF 30. C...     False   \n",
       "3  J.Allen pass short right complete to BUF 30. C...     False   \n",
       "4  J.Allen pass short right complete to BUF 30. C...     False   \n",
       "\n",
       "  fake_field_goal screen_pass   hash_mark play_action run_pass_option  \\\n",
       "0           False       False      Middle       False           False   \n",
       "1           False       False      Middle       False           False   \n",
       "2           False       False  Right Hash       False           False   \n",
       "3           False       False  Right Hash       False           False   \n",
       "4           False       False  Right Hash       False           False   \n",
       "\n",
       "  start_situation.clock  start_situation.down  start_situation.yfd  \\\n",
       "0                 15:00                     0                    0   \n",
       "1                 15:00                     0                    0   \n",
       "2                 15:00                     1                   10   \n",
       "3                 15:00                     1                   10   \n",
       "4                 15:00                     1                   10   \n",
       "\n",
       "  start_situation.possession.alias start_situation.location.alias  \\\n",
       "0                               LA                             LA   \n",
       "1                               LA                             LA   \n",
       "2                              BUF                            BUF   \n",
       "3                              BUF                            BUF   \n",
       "4                              BUF                            BUF   \n",
       "\n",
       "   start_situation.location.yardline end_situation.clock  end_situation.down  \\\n",
       "0                                 35               15:00                   1   \n",
       "1                                 35               15:00                   1   \n",
       "2                                 25               14:30                   2   \n",
       "3                                 25               14:30                   2   \n",
       "4                                 25               14:30                   2   \n",
       "\n",
       "   end_situation.yfd end_situation.possession.alias  \\\n",
       "0                 10                            BUF   \n",
       "1                 10                            BUF   \n",
       "2                  4                            BUF   \n",
       "3                  4                            BUF   \n",
       "4                  4                            BUF   \n",
       "\n",
       "  end_situation.location.alias  end_situation.location.yardline  \\\n",
       "0                          BUF                               25   \n",
       "1                          BUF                               25   \n",
       "2                          BUF                               31   \n",
       "3                          BUF                               31   \n",
       "4                          BUF                               31   \n",
       "\n",
       "   players_rushed  men_in_box play_direction  left_tightends  right_tightends  \\\n",
       "0             NaN         NaN            NaN             NaN              NaN   \n",
       "1             NaN         NaN            NaN             NaN              NaN   \n",
       "2               4           6          Right               0                1   \n",
       "3               4           6          Right               0                1   \n",
       "4               4           6          Right               0                1   \n",
       "\n",
       "  pocket_location qb_at_snap  huddle pass_route scoring_play  \\\n",
       "0             NaN        NaN     NaN        NaN          NaN   \n",
       "1             NaN        NaN     NaN        NaN          NaN   \n",
       "2          Middle    Shotgun  Huddle         In          NaN   \n",
       "3          Middle    Shotgun  Huddle         In          NaN   \n",
       "4          Middle    Shotgun  Huddle         In          NaN   \n",
       "\n",
       "  scoring_description stat_type  attempt  yards  \\\n",
       "0                 NaN      kick        1     65   \n",
       "1                 NaN    return      NaN    NaN   \n",
       "2                 NaN      pass        1      6   \n",
       "3                 NaN   receive      NaN      6   \n",
       "4                 NaN   defense      NaN    NaN   \n",
       "\n",
       "                              player.id   player.name player.jersey  \\\n",
       "0  2b90e091-ef78-4753-93eb-0acf3632c206      Matt Gay            08   \n",
       "1                                   NaN           NaN           NaN   \n",
       "2  3069db07-aa43-4503-ab11-2ae5c0002721    Josh Allen            17   \n",
       "3  a1c40664-b265-4083-aad2-54b4c734f2c5  Stefon Diggs            14   \n",
       "4  ca53fda9-d20a-4bc7-b8dc-deef28355399  Jalen Ramsey            05   \n",
       "\n",
       "  player.position       player.sr_id                               team.id  \\\n",
       "0               K  sr:player:1262704  2eff2a03-54d4-46ba-890e-2bc3925548f3   \n",
       "1             NaN                NaN  768c92aa-75ff-4a43-bcc0-f2798c2e1724   \n",
       "2              QB  sr:player:1208608  768c92aa-75ff-4a43-bcc0-f2798c2e1724   \n",
       "3              WR   sr:player:835197  768c92aa-75ff-4a43-bcc0-f2798c2e1724   \n",
       "4              DB   sr:player:986891  2eff2a03-54d4-46ba-890e-2bc3925548f3   \n",
       "\n",
       "  team.alias          team.sr_id  complete  att_yards  firstdown  inside_20  \\\n",
       "0         LA  sr:competitor:4387       NaN        NaN        NaN        NaN   \n",
       "1        BUF  sr:competitor:4376       NaN        NaN        NaN        NaN   \n",
       "2        BUF  sr:competitor:4376         1          5          0          0   \n",
       "3        BUF  sr:competitor:4376       NaN        NaN          0          0   \n",
       "4         LA  sr:competitor:4387       NaN        NaN        NaN        NaN   \n",
       "\n",
       "   goaltogo  blitz  hurry  knockdown  pocket_time  on_target_throw  \\\n",
       "0       NaN    NaN    NaN        NaN          NaN              NaN   \n",
       "1       NaN    NaN    NaN        NaN          NaN              NaN   \n",
       "2         0      0      0          0            1                1   \n",
       "3         0    NaN    NaN        NaN          NaN              NaN   \n",
       "4       NaN      0      0          0          NaN              NaN   \n",
       "\n",
       "   batted_pass  target  reception  yards_after_catch  dropped  catchable  \\\n",
       "0          NaN     NaN        NaN                NaN      NaN        NaN   \n",
       "1          NaN     NaN        NaN                NaN      NaN        NaN   \n",
       "2            0     NaN        NaN                NaN      NaN        NaN   \n",
       "3          NaN       1          1                  1        0          0   \n",
       "4            0     NaN        NaN                NaN      NaN        NaN   \n",
       "\n",
       "   tackle  def_target  broken_tackles  yards_after_contact  touchdown  \\\n",
       "0     NaN         NaN             NaN                  NaN        NaN   \n",
       "1     NaN         NaN             NaN                  NaN        NaN   \n",
       "2     NaN         NaN             NaN                  NaN        NaN   \n",
       "3     NaN         NaN             NaN                  NaN        NaN   \n",
       "4       1           1             NaN                  NaN        NaN   \n",
       "\n",
       "   endzone  interception incompletion_type  int_yards  opp_rec  opp_rec_yards  \\\n",
       "0      NaN           NaN               NaN        NaN      NaN            NaN   \n",
       "1      NaN           NaN               NaN        NaN      NaN            NaN   \n",
       "2      NaN           NaN               NaN        NaN      NaN            NaN   \n",
       "3      NaN           NaN               NaN        NaN      NaN            NaN   \n",
       "4      NaN           NaN               NaN        NaN      NaN            NaN   \n",
       "\n",
       "   lost  blocked  block  int_touchdown  opp_rec_td  safety  own_rec_td  downed  \n",
       "0   NaN      NaN    NaN            NaN         NaN     NaN         NaN     NaN  \n",
       "1   NaN      NaN    NaN            NaN         NaN     NaN         NaN     NaN  \n",
       "2   NaN      NaN    NaN            NaN         NaN     NaN         NaN     NaN  \n",
       "3   NaN      NaN    NaN            NaN         NaN     NaN         NaN     NaN  \n",
       "4   NaN      NaN    NaN            NaN         NaN     NaN         NaN     NaN  "
      ]
     },
     "execution_count": 26,
     "metadata": {},
     "output_type": "execute_result"
    }
   ],
   "source": [
    "games_periods_exploded_periods_pbp_exploded_pbp_events_exploded_events_statistics_exploded = fn.concat_df(games_periods_exploded_periods_pbp_exploded_pbp_events_exploded_events_statistics_exploded, statistics_flattened)\n",
    "games_periods_exploded_periods_pbp_exploded_pbp_events_exploded_events_statistics_exploded.head()"
   ]
  },
  {
   "cell_type": "code",
   "execution_count": 27,
   "id": "6b4fc443-c209-4186-991d-2ba35635c9a2",
   "metadata": {},
   "outputs": [],
   "source": [
    "sportradar = games_periods_exploded_periods_pbp_exploded_pbp_events_exploded_events_statistics_exploded"
   ]
  },
  {
   "cell_type": "markdown",
   "id": "4027085d-715c-41a3-a131-ca49d0442650",
   "metadata": {},
   "source": [
    "## Merge dataframes"
   ]
  },
  {
   "cell_type": "code",
   "execution_count": 28,
   "id": "e4ece279-db68-4c82-842e-bcf7d0e26a72",
   "metadata": {},
   "outputs": [],
   "source": [
    "# Max column width so we can read play descriptions\n",
    "pd.set_option('display.max_colwidth', None)"
   ]
  },
  {
   "cell_type": "code",
   "execution_count": 29,
   "id": "1a4e8770-d3f5-4012-83e9-26399aedffbc",
   "metadata": {},
   "outputs": [
    {
     "data": {
      "text/plain": [
       "[]"
      ]
     },
     "execution_count": 29,
     "metadata": {},
     "output_type": "execute_result"
    }
   ],
   "source": [
    "# Check for duplicate columns\n",
    "column_names = list(sportradar.columns)\n",
    "duplicate_columns = set([x for x in column_names if column_names.count(x) > 1])\n",
    "duplicate_columns_list = list(duplicate_columns)\n",
    "duplicate_columns_list"
   ]
  },
  {
   "cell_type": "code",
   "execution_count": 30,
   "id": "71b0e675-23f4-4249-83ca-1984b5152c80",
   "metadata": {},
   "outputs": [],
   "source": [
    "drop_cols = ['game_type', 'periods', 'interception', 'int_yards', 'opp_rec', 'opp_rec_yards', 'lost', 'blocked', 'block', 'int_touchdown', 'opp_rec_td', 'safety', 'own_rec_td', 'downed']\n",
    "\n",
    "sportradar = fn.drop_rename_cols(sportradar, drop_cols, rename_cols)"
   ]
  },
  {
   "cell_type": "code",
   "execution_count": 31,
   "id": "430d3c40-a620-4862-b407-ba594efb2d0c",
   "metadata": {},
   "outputs": [
    {
     "data": {
      "text/plain": [
       "(154285, 96)"
      ]
     },
     "execution_count": 31,
     "metadata": {},
     "output_type": "execute_result"
    }
   ],
   "source": [
    "sportradar.shape"
   ]
  },
  {
   "cell_type": "markdown",
   "id": "ccde4c0c-3038-461a-b919-b52c68c5c749",
   "metadata": {},
   "source": [
    "# CLEANING"
   ]
  },
  {
   "cell_type": "markdown",
   "id": "a721b394-aca9-45ef-bc37-7bdca573aefd",
   "metadata": {},
   "source": [
    "### Filter for WR-specific rows"
   ]
  },
  {
   "cell_type": "code",
   "execution_count": 32,
   "id": "a9dff32d-f20c-4faa-a08a-d4ca0f0f49bd",
   "metadata": {},
   "outputs": [],
   "source": [
    "# Filter for padd and receive plays\n",
    "sportradar = sportradar[\n",
    "                        (sportradar['stat_type'] == 'pass') \n",
    "                        | (sportradar['stat_type'] == 'receive') \n",
    "                        | ((sportradar['stat_type'] == 'penalty') & (sportradar['description'].str.contains('defensive pass interference', case = False, na = False)))\n",
    "                        ]"
   ]
  },
  {
   "cell_type": "code",
   "execution_count": 33,
   "id": "8e5814ad-ab36-43fa-9cde-ccfaa93d4ac0",
   "metadata": {},
   "outputs": [],
   "source": [
    "# Create dummy column for quarterback name\n",
    "sportradar['alias'] = sportradar.loc[sportradar['stat_type'] == 'pass']['player.name']\n",
    "sportradar['alias'] = sportradar['alias'].apply(str)\n",
    "\n",
    "# Create dummy column for defender name\n",
    "sportradar['name'] = sportradar.loc[sportradar['stat_type'] == 'penalty']['player.name']\n",
    "sportradar['name'] = sportradar['name'].apply(str)"
   ]
  },
  {
   "cell_type": "code",
   "execution_count": 34,
   "id": "a1614faa-2e1c-4af4-90c4-dfea909c3589",
   "metadata": {},
   "outputs": [],
   "source": [
    "# Extract passer data\n",
    "passer_data = sportradar[sportradar['stat_type'] == 'pass'].copy()\n",
    "\n",
    "# Rename passer columns\n",
    "passer_columns = {\n",
    "    'complete': 'qb_complete', \n",
    "    'att_yards': 'qb_att_yards', \n",
    "    'blitz': 'qb_blitz',\n",
    "    'hurry': 'qb_hurry',\n",
    "    'knockdown': 'qb_knockdown',\n",
    "    'pocket_time': 'qb_pocket_time',\n",
    "    'on_target_throw': 'qb_on_target_throw',\n",
    "    'batted_pass': 'qb_batted_pass',\n",
    "    'incompletion_type': 'qb_incompletion_type',\n",
    "    'alias': 'qb_name'\n",
    "}\n",
    "passer_data.rename(columns=passer_columns, inplace=True)"
   ]
  },
  {
   "cell_type": "code",
   "execution_count": 35,
   "id": "21597f69-1b34-4ac8-817a-32a4397a80b5",
   "metadata": {},
   "outputs": [],
   "source": [
    "# Extract defender data\n",
    "defender_data = sportradar[sportradar['stat_type'] == 'penalty'].copy()\n",
    "\n",
    "# Rename defender columns (assuming 'name' represents defender's name)\n",
    "defender_data.rename(columns={'name': 'defender_name'}, inplace=True)"
   ]
  },
  {
   "cell_type": "code",
   "execution_count": 36,
   "id": "3b0a8be4-5ae8-4098-9fc4-c39793d5e2ad",
   "metadata": {},
   "outputs": [],
   "source": [
    "# Extract receiver data and create a separate dataframe for it\n",
    "sportradar_wr = sportradar[sportradar['stat_type'] == 'receive'].copy()\n",
    "\n",
    "# Merge receiver data with passer data\n",
    "# Can merge on the `play_id` field\n",
    "sportradar_wr = sportradar_wr.merge(passer_data[['play_id', 'qb_complete', 'qb_att_yards', 'qb_blitz', 'qb_hurry', 'qb_knockdown', 'qb_pocket_time', 'qb_on_target_throw', 'qb_batted_pass', 'qb_incompletion_type', 'qb_name'\n",
    "                                                ]], on='play_id', how='left')\n",
    "\n",
    "# Merge receiver data with defender data\n",
    "sportradar_wr = sportradar_wr.merge(defender_data[['play_id', 'defender_name']], on='play_id', how='left')\n",
    "\n",
    "# Drop old passer-specific columns\n",
    "sportradar_wr.drop(['complete', 'att_yards', 'blitz', 'hurry', 'knockdown', 'pocket_time', 'on_target_throw', 'batted_pass', 'incompletion_type', 'alias', 'name'], axis=1, inplace=True, errors = 'ignore')"
   ]
  },
  {
   "cell_type": "code",
   "execution_count": 37,
   "id": "e4ea5ca0-d9a1-4ece-a0e2-fe189606ac30",
   "metadata": {},
   "outputs": [],
   "source": [
    "# Change reception nulls to zeros\n",
    "sportradar_wr['reception'].fillna(0, inplace = True)"
   ]
  },
  {
   "cell_type": "markdown",
   "id": "b0f23c0d-f1cb-4174-be83-88072efe5311",
   "metadata": {},
   "source": [
    "### Filtering out rows that contain \"no play\" in the description\n",
    "- SR is incorrectly counting pass plays that end with defensive penalties as receiver targets\n",
    "- We need to delete these to avoid overcounting targets"
   ]
  },
  {
   "cell_type": "code",
   "execution_count": 38,
   "id": "9c26db3a-0c90-4ca7-ad46-922b02d0e132",
   "metadata": {},
   "outputs": [],
   "source": [
    "sportradar_wr = sportradar_wr[~sportradar_wr['description'].str.contains('no play', case=False)]"
   ]
  },
  {
   "cell_type": "markdown",
   "id": "45d414da-d350-490c-9c9d-d0f656da1936",
   "metadata": {},
   "source": [
    "### Drop unnecessary columns\n",
    "- Some are redudnant"
   ]
  },
  {
   "cell_type": "code",
   "execution_count": 39,
   "id": "28155a97-90f3-429e-951e-e504b4f4e9c6",
   "metadata": {},
   "outputs": [],
   "source": [
    "drop_cols = ['sr_id', 'type', 'play_type', 'stat_type', 'scoring.home.id', 'scoring.away.id', 'player.id', 'team.id', 'scoring.home.alias', 'scoring.away.alias', 'clock', 'wall_clock', 'scoring_description', 'attempt', 'start_situation_possession_alias',\n",
    "                'end_situation_possession_alias']\n",
    "\n",
    "sportradar_wr = fn.drop_rename_cols(sportradar_wr, drop_cols, rename_cols)"
   ]
  },
  {
   "cell_type": "markdown",
   "id": "b550fb38-7982-40c8-8ba4-68ef0c72f3ef",
   "metadata": {},
   "source": [
    "### Suffix removal"
   ]
  },
  {
   "cell_type": "code",
   "execution_count": 40,
   "id": "8e74a89c-a692-41ff-a7cf-da35ec42c0dd",
   "metadata": {},
   "outputs": [],
   "source": [
    "suffixes = ['weather.', 'summary.', 'scoring.']\n",
    "\n",
    "for s in suffixes:\n",
    "    sportradar_wr = sportradar_wr.rename(columns = {col: col.replace(s, '') for col in sportradar_wr.columns})"
   ]
  },
  {
   "cell_type": "markdown",
   "id": "53f3b822-fac5-4c34-9115-0c750317274d",
   "metadata": {},
   "source": [
    "### Change '.' to '_'"
   ]
  },
  {
   "cell_type": "code",
   "execution_count": 41,
   "id": "cf910173-1c8e-4e77-8bd9-646ddba9753e",
   "metadata": {},
   "outputs": [],
   "source": [
    "sportradar_wr = sportradar_wr.rename(columns = {col: col.replace('.', '_') for col in sportradar_wr.columns})"
   ]
  },
  {
   "cell_type": "markdown",
   "id": "94a7cbf9-dd1d-41eb-b112-6040d85825ed",
   "metadata": {},
   "source": [
    "### Overtime adjustment"
   ]
  },
  {
   "cell_type": "code",
   "execution_count": 42,
   "id": "e17700da-b8a6-4891-8072-9be4b503d574",
   "metadata": {},
   "outputs": [],
   "source": [
    "sportradar_wr.loc[(sportradar_wr['period_type'] == 'overtime') & (sportradar_wr['number'] == 1), 'number'] = 5"
   ]
  },
  {
   "cell_type": "code",
   "execution_count": 43,
   "id": "948e169f-4226-4fb9-93da-12ef9ddc1425",
   "metadata": {},
   "outputs": [],
   "source": [
    "drop_cols = ['period_type']\n",
    "\n",
    "sportradar_wr = fn.drop_rename_cols(sportradar_wr, drop_cols, rename_cols)"
   ]
  },
  {
   "cell_type": "markdown",
   "id": "7e663b52-f119-4e32-b446-287e002f8a19",
   "metadata": {},
   "source": [
    "### Rename columns"
   ]
  },
  {
   "cell_type": "code",
   "execution_count": 44,
   "id": "61218ae7-b62f-4ece-825f-a3684565314b",
   "metadata": {},
   "outputs": [],
   "source": [
    "rename_cols = {'week_sequence': 'week', 'number': 'period', 'start_situation_clock': 'start_play_clock', 'start_situation_down': 'start_play_down', 'start_situation_yfd': 'start_play_yfd', 'start_situation_possession_alias': 'start_play_possession_alias', 'start_situation_location_yardline': 'start_play_yardline', \n",
    "              'start_situation_location_alias': 'start_play_field_side', 'end_situation_clock': 'end_play_clock', 'end_situation_down': 'end_play_down', 'end_situation_yfd': 'end_play_yfd', 'end_situation_possession_alias': 'end_play_possession_alias', 'end_situation_location_yardline': 'end_play_yardline', \n",
    "              'end_situation_location_alias': 'end_play_field_side', 'qb_blitz': 'blitz', 'qb_hurry': 'hurry', 'qb_knockdown': 'knockdown', 'qb_pocket_time': 'pocket_time', 'qb_complete': 'complete', 'qb_on_target_throw': 'on_target_throw', 'qb_batted_pass': 'batted_pass', 'qb_incompletion_type': 'incompletion_type', 'qb_att_yards': 'att_yards'}\n",
    "\n",
    "sportradar_wr = fn.drop_rename_cols(sportradar_wr, drop_cols, rename_cols)"
   ]
  },
  {
   "cell_type": "markdown",
   "id": "b2d927da-3538-4ed7-8274-efe903ce363d",
   "metadata": {},
   "source": [
    "### Play clock adjustments"
   ]
  },
  {
   "cell_type": "code",
   "execution_count": 45,
   "id": "fa15ebbd-a34d-485c-9d58-c3d353411217",
   "metadata": {},
   "outputs": [],
   "source": [
    "clock_fields = ['start_play_clock', 'end_play_clock']\n",
    "\n",
    "for c in clock_fields:\n",
    "    sportradar_wr[c + '_string'] = sportradar_wr[c]\n",
    "    sportradar_wr[c] = pd.to_timedelta('00:' + sportradar_wr[c])"
   ]
  },
  {
   "cell_type": "markdown",
   "id": "5d856d33-6df1-4bfa-95a4-015e93ff3937",
   "metadata": {},
   "source": [
    "### Pocket time to string"
   ]
  },
  {
   "cell_type": "code",
   "execution_count": 46,
   "id": "2888644e-0dcf-496e-907b-3e43b1771c57",
   "metadata": {},
   "outputs": [],
   "source": [
    "sportradar_wr['pocket_time_string'] = sportradar_wr['pocket_time'].map('{:,.2f}'.format)"
   ]
  },
  {
   "cell_type": "markdown",
   "id": "31869304-cca6-45ff-acf3-0ff4deed8fe2",
   "metadata": {},
   "source": [
    "### Effecive yardline adjustment"
   ]
  },
  {
   "cell_type": "code",
   "execution_count": 47,
   "id": "1fb10c3f-b3c0-46f6-b7d1-dad8622ba43e",
   "metadata": {},
   "outputs": [],
   "source": [
    "yardline_fields = ['start_play_yardline', 'end_play_yardline']\n",
    "\n",
    "for y in yardline_fields:\n",
    "    first_term = y.split('_')[0]\n",
    "    sportradar_wr['effective_' + y] = sportradar_wr[y]\n",
    "    sportradar_wr.loc[sportradar_wr['team_alias'] == sportradar_wr[first_term + '_play_field_side'], 'effective_' + y] = 50 - sportradar_wr[y] + 50"
   ]
  },
  {
   "cell_type": "markdown",
   "id": "b756294f-cb87-4a64-b2f5-c48bdcaf383b",
   "metadata": {},
   "source": [
    "### Re-ordering columns"
   ]
  },
  {
   "cell_type": "code",
   "execution_count": 48,
   "id": "b84e0236-f5f5-4f77-9d5b-6155c4068d7b",
   "metadata": {},
   "outputs": [],
   "source": [
    "sportradar_wr = sportradar_wr[['game_id','season_year','season_type','week','home_alias' ,'home_sr_id','away_alias' ,'away_sr_id', 'temp' ,'humidity' ,'wind_speed' ,'venue_surface' ,'venue_roof_type' ,'period' ,'event_id',\n",
    "                                'team_sequence','play_id','home_points' ,'away_points' ,'description','start_play_clock', 'start_play_clock_string', 'start_play_down' ,'start_play_yfd' ,'start_play_yardline', 'effective_start_play_yardline', 'start_play_field_side', 'inside_20' ,\n",
    "                                'goaltogo' ,'end_play_clock','end_play_clock_string', 'end_play_down','end_play_yfd', 'end_play_yardline', 'effective_end_play_yardline', 'end_play_field_side', 'firstdown','scoring_play','players_rushed','men_in_box','huddle',\n",
    "                                'hash_mark' ,'qb_at_snap' ,'left_tightends' ,'right_tightends', 'qb_name', 'pocket_location' ,'play_direction', 'screen_pass' ,'play_action' ,'run_pass_option' ,'pass_route' ,'fake_punt' ,'fake_field_goal',\n",
    "                                'defender_name', 'player_name' ,'player_jersey','player_position','player_sr_id','team_alias' ,'team_sr_id', 'blitz' ,'hurry' ,'knockdown' ,'pocket_time', 'pocket_time_string', 'on_target_throw' ,'batted_pass',\n",
    "                                'incompletion_type' ,'target' ,'reception' ,'yards' ,'att_yards' ,'yards_after_catch', 'yards_after_contact' ,'broken_tackles' ,'dropped','catchable', 'touchdown']]"
   ]
  },
  {
   "cell_type": "markdown",
   "id": "3d88479e-5b4f-49b4-965c-944a828cbd51",
   "metadata": {},
   "source": [
    "## Fixing receiver features"
   ]
  },
  {
   "cell_type": "markdown",
   "id": "0e97d59b-bfb6-45a4-83eb-6354a2032eba",
   "metadata": {},
   "source": [
    "### Poorly thrown passes\n",
    "- If the pass was poorly thrown, it should be considered on target or catchable"
   ]
  },
  {
   "cell_type": "code",
   "execution_count": 49,
   "id": "e509c348-ba93-4934-8351-bb433e07bc57",
   "metadata": {},
   "outputs": [],
   "source": [
    "sportradar_wr.loc[(sportradar_wr['on_target_throw'] == 1) & (sportradar_wr['incompletion_type'] == 'Poorly Thrown'), 'on_target_throw'] = 0\n",
    "sportradar_wr.loc[(sportradar_wr['catchable'] == 1) & (sportradar_wr['incompletion_type'] == 'Poorly Thrown'), 'catchable'] = 0"
   ]
  },
  {
   "cell_type": "markdown",
   "id": "5d341f9c-87b9-4ddf-b8b1-789222cb4599",
   "metadata": {},
   "source": [
    "### Dropped passes\n",
    "- If the pass was dropped, we should assume that it was on target and catchable"
   ]
  },
  {
   "cell_type": "code",
   "execution_count": 50,
   "id": "d5d32c24-001c-4979-b801-49fc117dc7da",
   "metadata": {},
   "outputs": [],
   "source": [
    "sportradar_wr.loc[(sportradar_wr['on_target_throw'] == 0) & (sportradar_wr['incompletion_type'] == 'Dropped Pass'), 'on_target_throw'] = 1\n",
    "sportradar_wr.loc[(sportradar_wr['catchable'] == 0) & (sportradar_wr['incompletion_type'] == 'Dropped Pass'), 'catchable'] = 1"
   ]
  },
  {
   "cell_type": "markdown",
   "id": "8839bcb4-6f49-4ae9-b5f9-9d9c02638a23",
   "metadata": {},
   "source": [
    "### Defended passes"
   ]
  },
  {
   "cell_type": "code",
   "execution_count": 51,
   "id": "1acc8d59-4932-4025-96e8-6617c0df824b",
   "metadata": {},
   "outputs": [],
   "source": [
    "sportradar_wr.loc[(sportradar_wr['on_target_throw'] == 0) & (sportradar_wr['incompletion_type'] == 'Pass Defended') & (sportradar_wr['batted_pass'] == False), 'on_target_throw'] = 1\n",
    "sportradar_wr.loc[(sportradar_wr['catchable'] == 0) & (sportradar_wr['incompletion_type'] == 'Pass Defended') & (sportradar_wr['batted_pass'] == False), 'catchable'] = 1"
   ]
  },
  {
   "cell_type": "markdown",
   "id": "14f0ff15-d439-4cbc-bef5-520b8d91d0ac",
   "metadata": {},
   "source": [
    "## New receiver columns\n",
    "- We should create new features that capture the nuances of player style based on:\n",
    "  - Utilization by route run\n",
    "  - Physical attributes\n",
    "  - Reliability in clutch situations\n",
    "  - Contact tolerance\n",
    "  - The ability to create separation from a defender"
   ]
  },
  {
   "cell_type": "markdown",
   "id": "aab290c3-5cab-4eb1-978d-8603cd3e868d",
   "metadata": {},
   "source": [
    "### Catches of poorly thrown passes\n",
    "- To capture when a receiver bails out a quarterback by managing to catch an off-target pass\n",
    "  - Demonstrates a receiver's overall \"catch radius\"\n",
    "    - A combination of body control, height, arm length, hand size, and ball tracking ability\n",
    "- Seems to only be recorded when a penalty is called.\n",
    "  - Not sure if this dataset actually records catches of poorly thrown passes or assumes they don't get caught by default.\n",
    "  - Still going to keep this feature just in case."
   ]
  },
  {
   "cell_type": "code",
   "execution_count": 52,
   "id": "561550c5-83e0-4493-9191-882fbac3d4ab",
   "metadata": {},
   "outputs": [],
   "source": [
    "sportradar_wr['difficult_attempt'] = False\n",
    "sportradar_wr.loc[(sportradar_wr['on_target_throw'] == 0) & (~sportradar_wr['description'].str.contains('penalty', case = False, na = False)), 'difficult_attempt'] = True\n",
    "\n",
    "sportradar_wr['difficult_catch'] = False\n",
    "sportradar_wr.loc[(sportradar_wr['on_target_throw'] == 0) & (sportradar_wr['reception'] == 1) & (~sportradar_wr['description'].str.contains('penalty', case = False, na = False)), 'difficult_catch'] = True"
   ]
  },
  {
   "cell_type": "markdown",
   "id": "95f49c82-4010-413d-9e97-d504ef343179",
   "metadata": {},
   "source": [
    "### Adverse weather catches\n",
    "- Can the receiver keep his footing when there's heavy rain? Can he catch a wet ball?\n",
    "- If OR:\n",
    "  - Temp is 32 F or less\n",
    "  - Wind speed is 10 MPH or greater\n",
    "  - Humidity is 70% or greater"
   ]
  },
  {
   "cell_type": "code",
   "execution_count": 53,
   "id": "264a659e-05ad-48a3-8003-2acf02fa38f8",
   "metadata": {},
   "outputs": [],
   "source": [
    "sportradar_wr['weather_attempt'] = False\n",
    "sportradar_wr.loc[((sportradar_wr['temp'] <= 32) | (sportradar_wr['wind_speed'] >= 10) | (sportradar_wr['humidity'] >= 70 )) & (sportradar_wr['reception'] == 1), 'weather_attempt'] = True\n",
    "\n",
    "sportradar_wr['weather_catch'] = False\n",
    "sportradar_wr.loc[((sportradar_wr['temp'] <= 32) | (sportradar_wr['wind_speed'] >= 10) | (sportradar_wr['humidity'] >= 70 )) & (sportradar_wr['reception'] == 1), 'weather_catch'] = True"
   ]
  },
  {
   "cell_type": "markdown",
   "id": "bd1139bf-7390-4e47-9ebf-6f72b58a1bf7",
   "metadata": {},
   "source": [
    "### QB bail-out catches\n",
    "- Does the receiver know when the QB is under duress, and does he know when and where to make himself open for a pass to prevent a loss of yardage?\n",
    "- Catches made when the quarterback is under duress (if OR):\n",
    "  - If QB scrambled\n",
    "  - If QB was hurried\n",
    "  - If QB was blitzed\n",
    "  - If QB was knocked down"
   ]
  },
  {
   "cell_type": "code",
   "execution_count": 54,
   "id": "a932b3b2-d73b-436d-a91f-9b14715c93ad",
   "metadata": {},
   "outputs": [],
   "source": [
    "sportradar_wr['qb_bf_attempt'] = False\n",
    "sportradar_wr.loc[(\n",
    "                    (sportradar_wr['pocket_location'] == 'Scramble Left') \n",
    "                    | (sportradar_wr['pocket_location'] == 'Scramble Right') \n",
    "                    | (sportradar_wr['hurry'] == True) \n",
    "                    | (sportradar_wr['blitz'] == True) \n",
    "                    | (sportradar_wr['knockdown'] == True)\n",
    "                  ) , 'qb_bf_attempt'] = True\n",
    "\n",
    "sportradar_wr['qb_bf_catch'] = False\n",
    "sportradar_wr.loc[(\n",
    "                    (sportradar_wr['pocket_location'] == 'Scramble Left') \n",
    "                    | (sportradar_wr['pocket_location'] == 'Scramble Right') \n",
    "                    | (sportradar_wr['hurry'] == True) \n",
    "                    | (sportradar_wr['blitz'] == True) \n",
    "                    | (sportradar_wr['knockdown'] == True)\n",
    "                  ) \n",
    "                  & (sportradar_wr['reception'] == 1), 'qb_bf_catch'] = True"
   ]
  },
  {
   "cell_type": "markdown",
   "id": "24ec8434-63f8-4253-89b3-a9e2784c6c2c",
   "metadata": {},
   "source": [
    "### Clutch catches\n",
    "- Does the receiver sustain drives by converting first downs or catching touchdowns near the end of close games? Or does he buckle under the pressure?\n",
    "- If AND:\n",
    "  - 4th quarter or overtime AND 4 or fewer minutes left in period\n",
    "  - Difference of one score (8 or fewer points)\n",
    "  - Converts first down or is touchdown"
   ]
  },
  {
   "cell_type": "code",
   "execution_count": 55,
   "id": "96bff790-cef4-48ed-89e8-66b111448874",
   "metadata": {},
   "outputs": [],
   "source": [
    "sportradar_wr['clutch_catch'] = False\n",
    "sportradar_wr.loc[(\n",
    "                    (sportradar_wr['period'] >= 4) & (sportradar_wr['start_play_clock'] < pd.Timedelta(minutes=4)) \n",
    "                    & (\n",
    "                        (\n",
    "                            (sportradar_wr['team_alias'] == sportradar_wr['home_alias']) & (abs(sportradar_wr['away_points'] - sportradar_wr['home_points']) <= 8)\n",
    "                        )\n",
    "                      | (\n",
    "                            (sportradar_wr['team_alias'] == sportradar_wr['away_alias']) & (abs(sportradar_wr['home_points'] - sportradar_wr['away_points']) <= 8)\n",
    "                        )\n",
    "                      )\n",
    "                    & (\n",
    "                        (sportradar_wr['att_yards'] >= sportradar_wr['start_play_yfd'])\n",
    "                      )\n",
    "                  ) & (sportradar_wr['reception'] == 1), 'clutch_catch'\n",
    "                ] = True"
   ]
  },
  {
   "cell_type": "markdown",
   "id": "d919ba2d-3680-4fb8-bf58-0b2edcb17dcb",
   "metadata": {},
   "source": [
    "### Conversion catches\n",
    "- Does the receiver sustain drives or catch touchdowns when the drive is in jeopardy?\n",
    "- The offensive team's 3rd down is commonly regarded as the last practical down of a drive\n",
    "  - Although the offensive team has 4 downs to sustain a drive or score, the 4th down is commonly used to kick the ball in one of two ways:\n",
    "    - Kicking a field goal for 3 points, provided that the offensive team is within the placekicker's range\n",
    "    - Punting the ball to move it downfield so that the opposing team starts with worse field position when it receives the punt\n",
    "  - If the offensive team attempts a pass or run play on 4th down and fails to convert a 1st down or score, the referee declares a \"turnover on downs\" and the opposing team takes possession of the ball where it was downed on the failed conversion attempt\n",
    "    - Due to the difficulty, pressure, and cost of converting on 4th down, offensive teams typically use the 4th down to punt or kick a field goal\n",
    "- If OR:\n",
    "  - 3rd down or greater and converts 1st down\n",
    "  - 3rd down or greater and scores TD"
   ]
  },
  {
   "cell_type": "code",
   "execution_count": 56,
   "id": "1b80caea-a194-4cf6-b344-68b74576f793",
   "metadata": {},
   "outputs": [],
   "source": [
    "sportradar_wr['conversion_attempt'] = False\n",
    "sportradar_wr.loc[\n",
    "                    (sportradar_wr['start_play_down'] >= 3) & (sportradar_wr['att_yards'] >= sportradar_wr['start_play_yfd']),\n",
    "                    'conversion_attempt'\n",
    "                ] = True\n",
    "\n",
    "sportradar_wr['conversion_catch'] = False\n",
    "sportradar_wr.loc[\n",
    "                    (sportradar_wr['start_play_down'] >= 3) & ((sportradar_wr['firstdown'] == 1) | (sportradar_wr['touchdown'] == 1)) & (sportradar_wr['reception'] == 1),\n",
    "                    'conversion_catch'\n",
    "                ] = True"
   ]
  },
  {
   "cell_type": "markdown",
   "id": "b886dbc2-39c0-4b48-a368-bab689ac7f3a",
   "metadata": {},
   "source": [
    "### Red zone touchdown catches\n",
    "- Touchdown catches from the 20 yardline or closer\n",
    "- Completing a pass in the red zone is difficult because the play starts from within the 20 yardline, making the 22 players bunched very closely together\n",
    "  - There is much less room for receivers to create horizontal separation from defenders\n",
    "  - Taller receivers are favored on redzone pass plays because they can use their height, arm length, and jumping ability to create separation"
   ]
  },
  {
   "cell_type": "code",
   "execution_count": 57,
   "id": "26e94473-ae63-4e01-a001-413410dd1c0f",
   "metadata": {},
   "outputs": [],
   "source": [
    "sportradar_wr['redzone_attempt'] = False\n",
    "sportradar_wr.loc[(\n",
    "                    (sportradar_wr['inside_20'] == 1) & (sportradar_wr['att_yards'] >= sportradar_wr['start_play_yfd'])\n",
    "                  ), 'redzone_attempt'] = True\n",
    "\n",
    "sportradar_wr['redzone_catch'] = False\n",
    "sportradar_wr.loc[(\n",
    "                    (sportradar_wr['inside_20'] == 1) & (sportradar_wr['touchdown'] == 1)\n",
    "                  )\n",
    "                   & (sportradar_wr['reception'] == 1), 'redzone_catch'] = True"
   ]
  },
  {
   "cell_type": "markdown",
   "id": "920c7047-a836-4d46-958e-81eba1d9a2b6",
   "metadata": {},
   "source": [
    "### Catches by route\n",
    "- Elite route runners are able to change direction very quickly without telegraphing their intentions to their defenders\n",
    "- Routes that feature quick direction change, such as the curl, require that the receiver have these traits:\n",
    "- Rapid acceleration\n",
    "- Rapid deceleration - The ability to stop movement in one direction with very few steps\n",
    "  - If a receiver \"pitter-patters,\" the defender knows he intends to stop and change directions\n",
    "- Flexible ankles\n",
    "- Hip mobility\n",
    "- Leverage intuition\n",
    "  - \"Inside leverage\" - When a receiver is positioned with his defender closer to the nearest lateral boundary, making the receiver closer to the \"inside\" of the field\n",
    "  - \"Outside leverage\" - When a receiver is positioned closer to the nearest lateral boundary than his defender, making the receiver closer to the \"outside\" of the field\n",
    "  - Understanding leverage tells a receiver:\n",
    "    - When to expect the pass without looking back at the QB\n",
    "    - What kind of pass the QB will throw\n",
    "- Not every elite receiver is an elite route runner.\n",
    "  - Some can run a limited \"route tree,\" running only relatively straight routes that take advantage of their speed."
   ]
  },
  {
   "cell_type": "code",
   "execution_count": 58,
   "id": "ab452f51-dda0-4775-b5f7-aa9ffe9d7c5a",
   "metadata": {},
   "outputs": [],
   "source": [
    "routes = ['In', 'Slant', 'Corner', 'Flat', 'Curl', 'WR Screen', 'Out', 'Go', 'Cross', 'Post', 'Comeback', 'Underneath Screen']\n",
    "\n",
    "for r in routes:\n",
    "    sportradar_wr[r.replace(' ', '_').lower() + '_attempt'] = False\n",
    "    sportradar_wr.loc[ (sportradar_wr['pass_route'] == r), r.replace(' ', '_').lower() + '_attempt'] = True\n",
    "\n",
    "for r in routes:\n",
    "    sportradar_wr[r.replace(' ', '_').lower()+'_catch'] = False\n",
    "    sportradar_wr.loc[ (sportradar_wr['pass_route'] == r) & (sportradar_wr['reception'] == 1), r.replace(' ', '_').lower()+'_catch'] = True"
   ]
  },
  {
   "cell_type": "markdown",
   "id": "56df8304-5422-4d10-bad5-11d72d1a26c2",
   "metadata": {},
   "source": [
    "- Only one play has a null value for route.\n",
    "- The video (https://youtu.be/Pn3l2AN3o9s?si=C7Iq0f_Uf7oru74F&t=2792) shows that the play resulted in a penalty anyway and should not count as a pass play.\n",
    "  - The description does not contain \"no play,\" so it escaped the penalty filter we applied to the dataframe."
   ]
  },
  {
   "cell_type": "code",
   "execution_count": 59,
   "id": "7d898bee-9189-40f3-93a5-835d4e28105c",
   "metadata": {},
   "outputs": [],
   "source": [
    "sportradar_wr = sportradar_wr[~sportradar_wr['pass_route'].isna()]"
   ]
  },
  {
   "cell_type": "markdown",
   "id": "351b330d-4aa9-4845-a949-287c7e979cd0",
   "metadata": {},
   "source": [
    "### Deep catch\n",
    "- A pass play can result in a large gain, but this can be achieved by a short pass to a receiver who gains many yards after the catch\n",
    "- This metric is meant to capture receivers who are frequently relied on to catch deep passes - passes that travel 20+ yards through the air before a catch attempt is made"
   ]
  },
  {
   "cell_type": "code",
   "execution_count": 60,
   "id": "850c160e-d05e-4e15-8035-5532c8d82074",
   "metadata": {},
   "outputs": [],
   "source": [
    "sportradar_wr['deep_attempt'] = False\n",
    "sportradar_wr.loc[ (sportradar_wr['att_yards'] >= 20), 'deep_attempt'] = True\n",
    "\n",
    "sportradar_wr['deep_catch'] = False\n",
    "sportradar_wr.loc[ (sportradar_wr['att_yards'] >= 20) & (sportradar_wr['reception'] == 1), 'deep_catch'] = True"
   ]
  },
  {
   "cell_type": "markdown",
   "id": "9ab6b32d-cf6c-426c-8c01-0026648aa3ee",
   "metadata": {},
   "source": [
    "### Large YAC catch\n",
    "- Some receivers, such as Deebo Samuel, excel at catching short passes and gaining many yards after the catch\n",
    "  - This requires great vision, lateral agility, and acceleration\n",
    "- Catches with 10+ yards after catch"
   ]
  },
  {
   "cell_type": "code",
   "execution_count": 61,
   "id": "c50b7238-d944-446f-ac02-14489c3b4b5f",
   "metadata": {},
   "outputs": [],
   "source": [
    "sportradar_wr['large_yac_catch'] = False\n",
    "sportradar_wr.loc[ (sportradar_wr['yards_after_catch'] >= 10) & (sportradar_wr['reception'] == 1), 'large_yac_catch'] = True"
   ]
  },
  {
   "cell_type": "markdown",
   "id": "573d1ef1-1ea6-4eaf-9b7b-d24b9d77faa4",
   "metadata": {},
   "source": [
    "### Play action catch\n",
    "- A play action play is when the quarterback takes the snap from directly \"under center\" (right behind the center), runs backward, and fakes a hand-off to the running back\n",
    "  - This play design fakes a run attempt, causing defenders to get \"drawn up\" leaving the deeper parts of the field more open for a receiver to exploit\n",
    "- Catches made from play action"
   ]
  },
  {
   "cell_type": "code",
   "execution_count": 62,
   "id": "c155ce97-57ae-43cc-8748-91390ee191d3",
   "metadata": {},
   "outputs": [],
   "source": [
    "sportradar_wr['play_action_attempt'] = False\n",
    "sportradar_wr.loc[ (sportradar_wr['play_action'] == True), 'play_action_attempt'] = True\n",
    "\n",
    "sportradar_wr['play_action_catch'] = False\n",
    "sportradar_wr.loc[ (sportradar_wr['play_action'] == True) & (sportradar_wr['reception'] == 1), 'play_action_catch'] = True"
   ]
  },
  {
   "cell_type": "markdown",
   "id": "9576f46a-8cb3-4c64-97cb-faccadac181f",
   "metadata": {},
   "source": [
    "### RPO catch\n",
    "- A run-pass option is similar to a play action design in that it is a fake designed to deceive defenses, but the quarterback has multiple options.\n",
    "- Unlike a play action concept, the QB does not turn his back toward the defense. He keeps his eyes downfield at all times. With his eyes downfield, he motions as if he's handing the ball off to the running back. He has 3 options:\n",
    "  - Complete the hand-off to the running back\n",
    "  - Keep the ball, thus faking the hand-off, and run\n",
    "  - Keep the ball, thus faking the hand-off, and pass\n",
    "- Catches made on a run-pass option"
   ]
  },
  {
   "cell_type": "code",
   "execution_count": 63,
   "id": "82ef958a-3c12-4af7-9674-b17b6101c105",
   "metadata": {},
   "outputs": [],
   "source": [
    "sportradar_wr['rpo_attempt'] = False\n",
    "sportradar_wr.loc[ (sportradar_wr['run_pass_option'] == True), 'rpo_attempt'] = True\n",
    "\n",
    "sportradar_wr['rpo_catch'] = False\n",
    "sportradar_wr.loc[ (sportradar_wr['run_pass_option'] == True) & (sportradar_wr['reception'] == 1), 'rpo_catch'] = True"
   ]
  },
  {
   "cell_type": "markdown",
   "id": "d205208b-30e6-40d8-9a9b-d47e1483a819",
   "metadata": {},
   "source": [
    "### Tackle-breaker catch\n",
    "- Some receives use their size and strength to bully defenders, inviting contact that fatigues defenders over the course of the game\n",
    "- Tired defenders refer to the dilemma of tackling a physical ball carrier as a \"business decision\"\n",
    "  - \"Expend more energy and get hurt trying to tackle him, or let him run by me?\"\n",
    "- Catches after which the receiver breaks a tackle"
   ]
  },
  {
   "cell_type": "code",
   "execution_count": 64,
   "id": "3369a482-848c-4d1c-b0eb-7c542d2e9a9c",
   "metadata": {},
   "outputs": [],
   "source": [
    "sportradar_wr['tackle_breaker_catch'] = False\n",
    "sportradar_wr.loc[ (sportradar_wr['broken_tackles'] >= 1) & (sportradar_wr['reception'] == 1), 'tackle_breaker_catch'] = True"
   ]
  },
  {
   "cell_type": "markdown",
   "id": "f054969b-2edb-43cb-86cc-042c8d0eb86f",
   "metadata": {},
   "source": [
    "### Beast catch\n",
    "- Similar in intent to the tackle-breaker catch, but focuses on receivers who gain many yards after being contacted by a defender\n",
    "- Catches that result in 10 or more yards after contact"
   ]
  },
  {
   "cell_type": "code",
   "execution_count": 65,
   "id": "ec671cfd-0bcc-44ea-b06f-55610c2410ef",
   "metadata": {},
   "outputs": [],
   "source": [
    "sportradar_wr['beast_catch'] = False\n",
    "sportradar_wr.loc[ (sportradar_wr['yards_after_contact'] >= 10) & (sportradar_wr['reception'] == 1), 'beast_catch'] = True"
   ]
  },
  {
   "cell_type": "markdown",
   "id": "8b33a3b2-5cd3-446c-8f04-c01786c412bf",
   "metadata": {},
   "source": [
    "### Hurry-up catch\n",
    "- Catches made on plays before which there was no huddle\n",
    "- Measures a receiver's knowledge of the playbook and what their role is without detailed explanation\n",
    "- Demonstrates receiver's chemistry with QB and whether they can be trusted to be ready at all times\n",
    "- Crucial in time-limited situations"
   ]
  },
  {
   "cell_type": "code",
   "execution_count": 66,
   "id": "44168873-baa3-4389-a78f-b4058edfccef",
   "metadata": {},
   "outputs": [],
   "source": [
    "sportradar_wr['hurry_up_attempt'] = False\n",
    "sportradar_wr.loc[ (sportradar_wr['huddle'] == 'No Huddle'), 'hurry_up_attempt'] = True\n",
    "\n",
    "sportradar_wr['hurry_up_catch'] = False\n",
    "sportradar_wr.loc[ (sportradar_wr['huddle'] == 'No Huddle') & (sportradar_wr['reception'] == 1), 'hurry_up_catch'] = True"
   ]
  },
  {
   "cell_type": "markdown",
   "id": "5fa8e930-0cce-4907-93c5-c93106ed4b02",
   "metadata": {},
   "source": [
    "### Deep sideline catch\n",
    "- 20 or more air yards\n",
    "- Near one of the sidelines\n",
    "- Gauges receiver's ability to be a vertical threat, maintain spatial awareness, and maintain body control when attempting the catch and staying inbounds"
   ]
  },
  {
   "cell_type": "code",
   "execution_count": 67,
   "id": "29466245-3a02-4afe-bfc1-2103b4d4e096",
   "metadata": {},
   "outputs": [],
   "source": [
    "sportradar_wr['deep_sideline_attempt'] = False\n",
    "sportradar_wr.loc[(\n",
    "                    (sportradar_wr['play_direction'] == 'Right Sideline') | (sportradar_wr['play_direction'] == 'Left Sideline')\n",
    "                  )\n",
    "                  & (sportradar_wr['att_yards'] >= 20)\n",
    "                  , 'deep_sideline_attempt'] = True\n",
    "\n",
    "sportradar_wr['deep_sideline_catch'] = False\n",
    "sportradar_wr.loc[(\n",
    "                    (sportradar_wr['play_direction'] == 'Right Sideline') | (sportradar_wr['play_direction'] == 'Left Sideline')\n",
    "                  )\n",
    "                  & (sportradar_wr['att_yards'] >= 20)\n",
    "                  & (sportradar_wr['reception'] == 1), 'deep_sideline_catch'] = True"
   ]
  },
  {
   "cell_type": "markdown",
   "id": "b387d4d7-2cf0-4475-84de-c47c5cbffac5",
   "metadata": {},
   "source": [
    "### DPI drawn\n",
    "- Receivers who frequently draw defensive pass interference calls worry defenders who don't want to surrender a big yardage gain"
   ]
  },
  {
   "cell_type": "code",
   "execution_count": 68,
   "id": "836df08b-af1f-4258-ae52-ff5ede696bf9",
   "metadata": {},
   "outputs": [],
   "source": [
    "sportradar_wr['dpi_drawn'] = False\n",
    "sportradar_wr.loc[sportradar_wr['defender_name'].notnull(), 'dpi_drawn'] = True"
   ]
  },
  {
   "cell_type": "markdown",
   "id": "482cbc20-9009-4b71-a990-6b179f12559b",
   "metadata": {},
   "source": [
    "### Possession-saver catch\n",
    "- A \"possession receiver\" is usually a tall, strong receiver who lacks speed, but can reliably make contested catches for short to intermediate yardage at the line to gain\n",
    "- By catching passes intended for them at the line to gain, they sustain drives"
   ]
  },
  {
   "cell_type": "code",
   "execution_count": 69,
   "id": "31a9f22c-db85-4a69-b8a5-d1065ba12348",
   "metadata": {},
   "outputs": [],
   "source": [
    "sportradar_wr['possession_saver_attempt'] = False\n",
    "sportradar_wr.loc[(sportradar_wr['att_yards'] >= sportradar_wr['start_play_yfd']), 'possession_saver_attempt'] = True\n",
    "\n",
    "sportradar_wr['possession_saver_catch'] = False\n",
    "sportradar_wr.loc[(sportradar_wr['att_yards'] >= sportradar_wr['start_play_yfd']) & (sportradar_wr['reception'] == 1), 'possession_saver_catch'] = True"
   ]
  },
  {
   "cell_type": "code",
   "execution_count": 70,
   "id": "f3a7085d-c524-4666-8944-a89664044d5a",
   "metadata": {},
   "outputs": [
    {
     "data": {
      "text/plain": [
       "(10340, 130)"
      ]
     },
     "execution_count": 70,
     "metadata": {},
     "output_type": "execute_result"
    }
   ],
   "source": [
    "sportradar_wr = sportradar_wr[sportradar_wr['player_position'] == 'WR']\n",
    "sportradar_wr.shape"
   ]
  },
  {
   "cell_type": "markdown",
   "id": "48d8455b-126c-4ab6-9534-a5d2eef9ac65",
   "metadata": {},
   "source": [
    "## Trick plays with multiple rows\n",
    "- Dropping trick plays in which a receiver also acted as a passer\n",
    "  - Since the receiver in these plays usually  are rare and are not helpful for analysis of playing style"
   ]
  },
  {
   "cell_type": "code",
   "execution_count": 71,
   "id": "1ed9e8ce-ea35-484f-a7df-afde427405be",
   "metadata": {},
   "outputs": [],
   "source": [
    "drop_cols = ['Unnamed: 0']\n",
    "\n",
    "sportradar_wr = fn.drop_rename_cols(sportradar_wr, drop_cols, rename_cols)"
   ]
  },
  {
   "cell_type": "code",
   "execution_count": 72,
   "id": "3fa0f19e-9f9c-4aa4-aa63-4ffdedcdbe7e",
   "metadata": {},
   "outputs": [
    {
     "data": {
      "text/plain": [
       "(10301, (10340,))"
      ]
     },
     "execution_count": 72,
     "metadata": {},
     "output_type": "execute_result"
    }
   ],
   "source": [
    "sportradar_wr['play_id'].nunique(), sportradar_wr['play_id'].shape"
   ]
  },
  {
   "cell_type": "code",
   "execution_count": 73,
   "id": "4496971d-860f-44df-82f4-f579206c6956",
   "metadata": {},
   "outputs": [
    {
     "data": {
      "text/plain": [
       "17"
      ]
     },
     "execution_count": 73,
     "metadata": {},
     "output_type": "execute_result"
    }
   ],
   "source": [
    "sportradar_wr.groupby(\"play_id\").filter(lambda x: len(x) > 1)['play_id'].nunique()"
   ]
  },
  {
   "cell_type": "code",
   "execution_count": 74,
   "id": "3573fe60-a617-41f5-a4f2-f71d084bd4bd",
   "metadata": {},
   "outputs": [],
   "source": [
    "trick_plays = sportradar_wr.groupby(\"play_id\").filter(lambda x: len(x) > 1)"
   ]
  },
  {
   "cell_type": "code",
   "execution_count": 75,
   "id": "fab0f98f-dd2e-4de9-a319-19cf367d0ad3",
   "metadata": {},
   "outputs": [
    {
     "data": {
      "text/plain": [
       "Index([  585,  2360,  2362,  3712,  4435,  4437,  4439,  4928,  4930,  4932,\n",
       "        6232,  6234,  6888, 10292, 10294, 13132, 13287, 13289, 13380, 13382,\n",
       "       13478, 16869, 16873, 17690, 17694, 18096, 18293, 18295],\n",
       "      dtype='int64')"
      ]
     },
     "execution_count": 75,
     "metadata": {},
     "output_type": "execute_result"
    }
   ],
   "source": [
    "trick_plays[trick_plays['pocket_time'].isna()].index"
   ]
  },
  {
   "cell_type": "code",
   "execution_count": 76,
   "id": "3c237982-c60b-44ac-b1c8-258e59954b39",
   "metadata": {},
   "outputs": [],
   "source": [
    "sportradar_wr = sportradar_wr[~sportradar_wr.index.isin([585,  2360,  2362,  3712,  4435,  4437,  4439,  4928,  4930,  4932,\n",
    "                                                        6232,  6234,  6888, 10292, 10294, 13132, 13287, 13289, 13380, 13382,\n",
    "                                                       13478, 16869, 16873, 17690, 17694, 18096, 18293, 18295])]"
   ]
  },
  {
   "cell_type": "code",
   "execution_count": 77,
   "id": "b57bd0aa-7f8c-4da0-b34c-28d5b0c91f07",
   "metadata": {},
   "outputs": [
    {
     "data": {
      "text/plain": [
       "(10312, 130)"
      ]
     },
     "execution_count": 77,
     "metadata": {},
     "output_type": "execute_result"
    }
   ],
   "source": [
    "sportradar_wr.shape"
   ]
  },
  {
   "cell_type": "code",
   "execution_count": 78,
   "id": "e5f01ae9-5a56-4faf-9ebc-558f30c13fe0",
   "metadata": {},
   "outputs": [],
   "source": [
    "sportradar_wr.to_csv('../working_exports/sportradar_wr.csv')"
   ]
  },
  {
   "cell_type": "code",
   "execution_count": null,
   "id": "c57e7ad4-73d3-440a-9753-2e214cae0c1e",
   "metadata": {},
   "outputs": [],
   "source": []
  }
 ],
 "metadata": {
  "kernelspec": {
   "display_name": "Python 3 (ipykernel)",
   "language": "python",
   "name": "python3"
  },
  "language_info": {
   "codemirror_mode": {
    "name": "ipython",
    "version": 3
   },
   "file_extension": ".py",
   "mimetype": "text/x-python",
   "name": "python",
   "nbconvert_exporter": "python",
   "pygments_lexer": "ipython3",
   "version": "3.11.6"
  }
 },
 "nbformat": 4,
 "nbformat_minor": 5
}
